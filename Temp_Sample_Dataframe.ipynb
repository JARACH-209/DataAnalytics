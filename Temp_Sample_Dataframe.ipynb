{
  "nbformat": 4,
  "nbformat_minor": 0,
  "metadata": {
    "colab": {
      "name": "Analysis of ML car truong set.ipynb",
      "provenance": [],
      "collapsed_sections": [],
      "authorship_tag": "ABX9TyOF/FIlmb985BQCYESdHz6k",
      "include_colab_link": true
    },
    "kernelspec": {
      "name": "python3",
      "display_name": "Python 3"
    }
  },
  "cells": [
    {
      "cell_type": "markdown",
      "metadata": {
        "id": "view-in-github",
        "colab_type": "text"
      },
      "source": [
        "<a href=\"https://colab.research.google.com/github/JARACH-209/DataAnalytics/blob/master/Temp_Sample_Dataframe.ipynb\" target=\"_parent\"><img src=\"https://colab.research.google.com/assets/colab-badge.svg\" alt=\"Open In Colab\"/></a>"
      ]
    },
    {
      "cell_type": "code",
      "metadata": {
        "id": "RdkRhjb6LpFc",
        "colab_type": "code",
        "colab": {
          "base_uri": "https://localhost:8080/",
          "height": 112
        },
        "outputId": "8fcbfa9e-c3ce-412d-9363-2939d1380619"
      },
      "source": [
        "pip install flatten_json"
      ],
      "execution_count": 3,
      "outputs": [
        {
          "output_type": "stream",
          "text": [
            "Collecting flatten_json\n",
            "  Downloading https://files.pythonhosted.org/packages/eb/a9/1e35abfc4726065f9692decb3c57cf379e5d5329befc6fa5a1ab835fffb8/flatten_json-0.1.7-py3-none-any.whl\n",
            "Installing collected packages: flatten-json\n",
            "Successfully installed flatten-json-0.1.7\n"
          ],
          "name": "stdout"
        }
      ]
    },
    {
      "cell_type": "code",
      "metadata": {
        "id": "4kVScUTeVnQ9",
        "colab_type": "code",
        "colab": {
          "base_uri": "https://localhost:8080/",
          "height": 36
        },
        "outputId": "3cb0d5b0-5c51-44de-d151-d68914d243c3"
      },
      "source": [
        "import pandas as pd\n",
        "from flatten_json import flatten\n",
        "import matplotlib \n",
        "from matplotlib import pyplot as plt\n",
        "import ast\n",
        "\n",
        "\n",
        "temp_readings = \"/content/Sensor-02.json\"\n",
        "\n",
        "json_data = pd.read_json(temp_readings,orient='columns')\n",
        "#df = flatten(json_data)\n",
        "#df = [ast.literal_eval(df) for i in df.index]\n",
        "\n",
        "\n",
        "json_data.columns\n",
        "\n"
      ],
      "execution_count": 102,
      "outputs": [
        {
          "output_type": "execute_result",
          "data": {
            "text/plain": [
              "Index(['metadata', 'results'], dtype='object')"
            ]
          },
          "metadata": {
            "tags": []
          },
          "execution_count": 102
        }
      ]
    },
    {
      "cell_type": "code",
      "metadata": {
        "id": "BVTlexmyOfS7",
        "colab_type": "code",
        "colab": {}
      },
      "source": [
        "json_data.drop(columns = \"metadata\",inplace=True)"
      ],
      "execution_count": 103,
      "outputs": []
    },
    {
      "cell_type": "code",
      "metadata": {
        "id": "0bM6lK3wRBpv",
        "colab_type": "code",
        "colab": {
          "base_uri": "https://localhost:8080/",
          "height": 363
        },
        "outputId": "d6cfe589-18e8-419b-a817-5877244ad49b"
      },
      "source": [
        "json_data.head(10)"
      ],
      "execution_count": 104,
      "outputs": [
        {
          "output_type": "execute_result",
          "data": {
            "text/html": [
              "<div>\n",
              "<style scoped>\n",
              "    .dataframe tbody tr th:only-of-type {\n",
              "        vertical-align: middle;\n",
              "    }\n",
              "\n",
              "    .dataframe tbody tr th {\n",
              "        vertical-align: top;\n",
              "    }\n",
              "\n",
              "    .dataframe thead th {\n",
              "        text-align: right;\n",
              "    }\n",
              "</style>\n",
              "<table border=\"1\" class=\"dataframe\">\n",
              "  <thead>\n",
              "    <tr style=\"text-align: right;\">\n",
              "      <th></th>\n",
              "      <th>results</th>\n",
              "    </tr>\n",
              "  </thead>\n",
              "  <tbody>\n",
              "    <tr>\n",
              "      <th>created_on</th>\n",
              "      <td>NaN</td>\n",
              "    </tr>\n",
              "    <tr>\n",
              "      <th>generator_script</th>\n",
              "      <td>NaN</td>\n",
              "    </tr>\n",
              "    <tr>\n",
              "      <th>generator_version</th>\n",
              "      <td>NaN</td>\n",
              "    </tr>\n",
              "    <tr>\n",
              "      <th>parameters</th>\n",
              "      <td>NaN</td>\n",
              "    </tr>\n",
              "    <tr>\n",
              "      <th>processing_end</th>\n",
              "      <td>NaN</td>\n",
              "    </tr>\n",
              "    <tr>\n",
              "      <th>processing_start</th>\n",
              "      <td>NaN</td>\n",
              "    </tr>\n",
              "    <tr>\n",
              "      <th>source_files</th>\n",
              "      <td>NaN</td>\n",
              "    </tr>\n",
              "    <tr>\n",
              "      <th>system</th>\n",
              "      <td>NaN</td>\n",
              "    </tr>\n",
              "    <tr>\n",
              "      <th>2017-11-23 14:40:17.857000</th>\n",
              "      <td>0.2</td>\n",
              "    </tr>\n",
              "    <tr>\n",
              "      <th>2017-11-23 14:40:18.067000</th>\n",
              "      <td>0.2</td>\n",
              "    </tr>\n",
              "  </tbody>\n",
              "</table>\n",
              "</div>"
            ],
            "text/plain": [
              "                            results\n",
              "created_on                      NaN\n",
              "generator_script                NaN\n",
              "generator_version               NaN\n",
              "parameters                      NaN\n",
              "processing_end                  NaN\n",
              "processing_start                NaN\n",
              "source_files                    NaN\n",
              "system                          NaN\n",
              "2017-11-23 14:40:17.857000      0.2\n",
              "2017-11-23 14:40:18.067000      0.2"
            ]
          },
          "metadata": {
            "tags": []
          },
          "execution_count": 104
        }
      ]
    },
    {
      "cell_type": "code",
      "metadata": {
        "id": "5Tzo-lPoPpl2",
        "colab_type": "code",
        "colab": {}
      },
      "source": [
        "json_data.drop([\"created_on\",\"generator_script\",\"generator_version\"\n",
        ",\"parameters\",\"processing_end\",\"processing_start\",\"source_files\",\"system\"],inplace = True) \n",
        "#droppig the unrequired data"
      ],
      "execution_count": 105,
      "outputs": []
    },
    {
      "cell_type": "code",
      "metadata": {
        "id": "PFmt_08b7R4J",
        "colab_type": "code",
        "colab": {}
      },
      "source": [
        "df = json_data\n",
        "#df = pd.DataFrame(df.index.str.split(expand=True).tolist(),columns = ['date','time'])\n",
        "df[\"datetime\"] = df.index\n",
        "df[['date','time']] = df.datetime.str.split(expand=True)     #splitting datetime into date and time"
      ],
      "execution_count": 110,
      "outputs": []
    },
    {
      "cell_type": "code",
      "metadata": {
        "id": "nfRrCY91LaP1",
        "colab_type": "code",
        "colab": {
          "base_uri": "https://localhost:8080/",
          "height": 206
        },
        "outputId": "b74e591b-1b2b-423d-8a65-e928273ed63a"
      },
      "source": [
        "df.head()"
      ],
      "execution_count": 111,
      "outputs": [
        {
          "output_type": "execute_result",
          "data": {
            "text/html": [
              "<div>\n",
              "<style scoped>\n",
              "    .dataframe tbody tr th:only-of-type {\n",
              "        vertical-align: middle;\n",
              "    }\n",
              "\n",
              "    .dataframe tbody tr th {\n",
              "        vertical-align: top;\n",
              "    }\n",
              "\n",
              "    .dataframe thead th {\n",
              "        text-align: right;\n",
              "    }\n",
              "</style>\n",
              "<table border=\"1\" class=\"dataframe\">\n",
              "  <thead>\n",
              "    <tr style=\"text-align: right;\">\n",
              "      <th></th>\n",
              "      <th>results</th>\n",
              "      <th>datetime</th>\n",
              "      <th>date</th>\n",
              "      <th>time</th>\n",
              "    </tr>\n",
              "  </thead>\n",
              "  <tbody>\n",
              "    <tr>\n",
              "      <th>2017-11-23 14:40:17.857000</th>\n",
              "      <td>0.2</td>\n",
              "      <td>2017-11-23 14:40:17.857000</td>\n",
              "      <td>2017-11-23</td>\n",
              "      <td>14:40:17.857000</td>\n",
              "    </tr>\n",
              "    <tr>\n",
              "      <th>2017-11-23 14:40:18.067000</th>\n",
              "      <td>0.2</td>\n",
              "      <td>2017-11-23 14:40:18.067000</td>\n",
              "      <td>2017-11-23</td>\n",
              "      <td>14:40:18.067000</td>\n",
              "    </tr>\n",
              "    <tr>\n",
              "      <th>2017-11-23 14:40:18.172000</th>\n",
              "      <td>0.2</td>\n",
              "      <td>2017-11-23 14:40:18.172000</td>\n",
              "      <td>2017-11-23</td>\n",
              "      <td>14:40:18.172000</td>\n",
              "    </tr>\n",
              "    <tr>\n",
              "      <th>2017-11-23 14:40:18.262000</th>\n",
              "      <td>0.2</td>\n",
              "      <td>2017-11-23 14:40:18.262000</td>\n",
              "      <td>2017-11-23</td>\n",
              "      <td>14:40:18.262000</td>\n",
              "    </tr>\n",
              "    <tr>\n",
              "      <th>2017-11-23 14:40:18.367000</th>\n",
              "      <td>0.2</td>\n",
              "      <td>2017-11-23 14:40:18.367000</td>\n",
              "      <td>2017-11-23</td>\n",
              "      <td>14:40:18.367000</td>\n",
              "    </tr>\n",
              "  </tbody>\n",
              "</table>\n",
              "</div>"
            ],
            "text/plain": [
              "                            results  ...             time\n",
              "2017-11-23 14:40:17.857000      0.2  ...  14:40:17.857000\n",
              "2017-11-23 14:40:18.067000      0.2  ...  14:40:18.067000\n",
              "2017-11-23 14:40:18.172000      0.2  ...  14:40:18.172000\n",
              "2017-11-23 14:40:18.262000      0.2  ...  14:40:18.262000\n",
              "2017-11-23 14:40:18.367000      0.2  ...  14:40:18.367000\n",
              "\n",
              "[5 rows x 4 columns]"
            ]
          },
          "metadata": {
            "tags": []
          },
          "execution_count": 111
        }
      ]
    },
    {
      "cell_type": "code",
      "metadata": {
        "id": "7oR7bTic9Jpr",
        "colab_type": "code",
        "colab": {}
      },
      "source": [
        "#json_data[\"results\"] = json_data[\"results\"].astype(float)   #converting the column to float so that it can be added to new DF\n",
        "#df['temp_readings'] = df['temp_readings'].astype(float)\n",
        "#df['temp_readings'] = json_data[\"results\"]     #Adding column to new dataframe"
      ],
      "execution_count": 76,
      "outputs": []
    },
    {
      "cell_type": "code",
      "metadata": {
        "id": "PVeLmbU_NE_b",
        "colab_type": "code",
        "colab": {}
      },
      "source": [
        "df.reset_index(drop=True,inplace=True)      #dropping the index which was datatime"
      ],
      "execution_count": 112,
      "outputs": []
    },
    {
      "cell_type": "code",
      "metadata": {
        "id": "J6e1AGQ6Nfk5",
        "colab_type": "code",
        "colab": {
          "base_uri": "https://localhost:8080/",
          "height": 206
        },
        "outputId": "55ad6cf9-177b-4b1a-bc30-14d7000203fb"
      },
      "source": [
        "df.head()"
      ],
      "execution_count": 113,
      "outputs": [
        {
          "output_type": "execute_result",
          "data": {
            "text/html": [
              "<div>\n",
              "<style scoped>\n",
              "    .dataframe tbody tr th:only-of-type {\n",
              "        vertical-align: middle;\n",
              "    }\n",
              "\n",
              "    .dataframe tbody tr th {\n",
              "        vertical-align: top;\n",
              "    }\n",
              "\n",
              "    .dataframe thead th {\n",
              "        text-align: right;\n",
              "    }\n",
              "</style>\n",
              "<table border=\"1\" class=\"dataframe\">\n",
              "  <thead>\n",
              "    <tr style=\"text-align: right;\">\n",
              "      <th></th>\n",
              "      <th>results</th>\n",
              "      <th>datetime</th>\n",
              "      <th>date</th>\n",
              "      <th>time</th>\n",
              "    </tr>\n",
              "  </thead>\n",
              "  <tbody>\n",
              "    <tr>\n",
              "      <th>0</th>\n",
              "      <td>0.2</td>\n",
              "      <td>2017-11-23 14:40:17.857000</td>\n",
              "      <td>2017-11-23</td>\n",
              "      <td>14:40:17.857000</td>\n",
              "    </tr>\n",
              "    <tr>\n",
              "      <th>1</th>\n",
              "      <td>0.2</td>\n",
              "      <td>2017-11-23 14:40:18.067000</td>\n",
              "      <td>2017-11-23</td>\n",
              "      <td>14:40:18.067000</td>\n",
              "    </tr>\n",
              "    <tr>\n",
              "      <th>2</th>\n",
              "      <td>0.2</td>\n",
              "      <td>2017-11-23 14:40:18.172000</td>\n",
              "      <td>2017-11-23</td>\n",
              "      <td>14:40:18.172000</td>\n",
              "    </tr>\n",
              "    <tr>\n",
              "      <th>3</th>\n",
              "      <td>0.2</td>\n",
              "      <td>2017-11-23 14:40:18.262000</td>\n",
              "      <td>2017-11-23</td>\n",
              "      <td>14:40:18.262000</td>\n",
              "    </tr>\n",
              "    <tr>\n",
              "      <th>4</th>\n",
              "      <td>0.2</td>\n",
              "      <td>2017-11-23 14:40:18.367000</td>\n",
              "      <td>2017-11-23</td>\n",
              "      <td>14:40:18.367000</td>\n",
              "    </tr>\n",
              "  </tbody>\n",
              "</table>\n",
              "</div>"
            ],
            "text/plain": [
              "   results                    datetime        date             time\n",
              "0      0.2  2017-11-23 14:40:17.857000  2017-11-23  14:40:17.857000\n",
              "1      0.2  2017-11-23 14:40:18.067000  2017-11-23  14:40:18.067000\n",
              "2      0.2  2017-11-23 14:40:18.172000  2017-11-23  14:40:18.172000\n",
              "3      0.2  2017-11-23 14:40:18.262000  2017-11-23  14:40:18.262000\n",
              "4      0.2  2017-11-23 14:40:18.367000  2017-11-23  14:40:18.367000"
            ]
          },
          "metadata": {
            "tags": []
          },
          "execution_count": 113
        }
      ]
    },
    {
      "cell_type": "code",
      "metadata": {
        "id": "kpjtkcI3NjJ1",
        "colab_type": "code",
        "colab": {
          "base_uri": "https://localhost:8080/",
          "height": 423
        },
        "outputId": "8c3f31b3-9139-4f40-88e9-fd0ea649aad8"
      },
      "source": [
        "df.drop(columns=\"datetime\") "
      ],
      "execution_count": 114,
      "outputs": [
        {
          "output_type": "execute_result",
          "data": {
            "text/html": [
              "<div>\n",
              "<style scoped>\n",
              "    .dataframe tbody tr th:only-of-type {\n",
              "        vertical-align: middle;\n",
              "    }\n",
              "\n",
              "    .dataframe tbody tr th {\n",
              "        vertical-align: top;\n",
              "    }\n",
              "\n",
              "    .dataframe thead th {\n",
              "        text-align: right;\n",
              "    }\n",
              "</style>\n",
              "<table border=\"1\" class=\"dataframe\">\n",
              "  <thead>\n",
              "    <tr style=\"text-align: right;\">\n",
              "      <th></th>\n",
              "      <th>results</th>\n",
              "      <th>date</th>\n",
              "      <th>time</th>\n",
              "    </tr>\n",
              "  </thead>\n",
              "  <tbody>\n",
              "    <tr>\n",
              "      <th>0</th>\n",
              "      <td>0.2</td>\n",
              "      <td>2017-11-23</td>\n",
              "      <td>14:40:17.857000</td>\n",
              "    </tr>\n",
              "    <tr>\n",
              "      <th>1</th>\n",
              "      <td>0.2</td>\n",
              "      <td>2017-11-23</td>\n",
              "      <td>14:40:18.067000</td>\n",
              "    </tr>\n",
              "    <tr>\n",
              "      <th>2</th>\n",
              "      <td>0.2</td>\n",
              "      <td>2017-11-23</td>\n",
              "      <td>14:40:18.172000</td>\n",
              "    </tr>\n",
              "    <tr>\n",
              "      <th>3</th>\n",
              "      <td>0.2</td>\n",
              "      <td>2017-11-23</td>\n",
              "      <td>14:40:18.262000</td>\n",
              "    </tr>\n",
              "    <tr>\n",
              "      <th>4</th>\n",
              "      <td>0.2</td>\n",
              "      <td>2017-11-23</td>\n",
              "      <td>14:40:18.367000</td>\n",
              "    </tr>\n",
              "    <tr>\n",
              "      <th>...</th>\n",
              "      <td>...</td>\n",
              "      <td>...</td>\n",
              "      <td>...</td>\n",
              "    </tr>\n",
              "    <tr>\n",
              "      <th>105971</th>\n",
              "      <td>4.8</td>\n",
              "      <td>2017-11-23</td>\n",
              "      <td>17:40:15.889000</td>\n",
              "    </tr>\n",
              "    <tr>\n",
              "      <th>105972</th>\n",
              "      <td>4.8</td>\n",
              "      <td>2017-11-23</td>\n",
              "      <td>17:40:15.979000</td>\n",
              "    </tr>\n",
              "    <tr>\n",
              "      <th>105973</th>\n",
              "      <td>4.8</td>\n",
              "      <td>2017-11-23</td>\n",
              "      <td>17:40:16.084000</td>\n",
              "    </tr>\n",
              "    <tr>\n",
              "      <th>105974</th>\n",
              "      <td>4.8</td>\n",
              "      <td>2017-11-23</td>\n",
              "      <td>17:40:16.204000</td>\n",
              "    </tr>\n",
              "    <tr>\n",
              "      <th>105975</th>\n",
              "      <td>4.8</td>\n",
              "      <td>2017-11-23</td>\n",
              "      <td>17:40:16.295000</td>\n",
              "    </tr>\n",
              "  </tbody>\n",
              "</table>\n",
              "<p>105976 rows × 3 columns</p>\n",
              "</div>"
            ],
            "text/plain": [
              "        results        date             time\n",
              "0           0.2  2017-11-23  14:40:17.857000\n",
              "1           0.2  2017-11-23  14:40:18.067000\n",
              "2           0.2  2017-11-23  14:40:18.172000\n",
              "3           0.2  2017-11-23  14:40:18.262000\n",
              "4           0.2  2017-11-23  14:40:18.367000\n",
              "...         ...         ...              ...\n",
              "105971      4.8  2017-11-23  17:40:15.889000\n",
              "105972      4.8  2017-11-23  17:40:15.979000\n",
              "105973      4.8  2017-11-23  17:40:16.084000\n",
              "105974      4.8  2017-11-23  17:40:16.204000\n",
              "105975      4.8  2017-11-23  17:40:16.295000\n",
              "\n",
              "[105976 rows x 3 columns]"
            ]
          },
          "metadata": {
            "tags": []
          },
          "execution_count": 114
        }
      ]
    },
    {
      "cell_type": "code",
      "metadata": {
        "id": "B-ir5OhZNvBK",
        "colab_type": "code",
        "colab": {}
      },
      "source": [
        "df.to_csv(\"temp_dataframe_sensor1_sensor2\")     #saving dataframe to file"
      ],
      "execution_count": 115,
      "outputs": []
    },
    {
      "cell_type": "code",
      "metadata": {
        "id": "p1VfaViXONxW",
        "colab_type": "code",
        "colab": {}
      },
      "source": [
        ""
      ],
      "execution_count": null,
      "outputs": []
    }
  ]
}