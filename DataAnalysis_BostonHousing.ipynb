{
  "nbformat": 4,
  "nbformat_minor": 0,
  "metadata": {
    "colab": {
      "name": "DataAnalysis_BostonHousing.ipynb",
      "provenance": [],
      "authorship_tag": "ABX9TyOn5BiDWKf33goJiv7Gh0A5",
      "include_colab_link": true
    },
    "kernelspec": {
      "name": "python3",
      "display_name": "Python 3"
    }
  },
  "cells": [
    {
      "cell_type": "markdown",
      "metadata": {
        "id": "view-in-github",
        "colab_type": "text"
      },
      "source": [
        "<a href=\"https://colab.research.google.com/github/JARACH-209/DataAnalytics/blob/master/DataAnalysis_BostonHousing.ipynb\" target=\"_parent\"><img src=\"https://colab.research.google.com/assets/colab-badge.svg\" alt=\"Open In Colab\"/></a>"
      ]
    },
    {
      "cell_type": "markdown",
      "metadata": {
        "id": "-K2_wHFrYxcs",
        "colab_type": "text"
      },
      "source": [
        "# Investigation to improve ML model by Exlporatory Data Analysis\n",
        "\n",
        "## Dataset : Boston Housing Data"
      ]
    },
    {
      "cell_type": "code",
      "metadata": {
        "id": "lPl-WLfINQ6K",
        "colab_type": "code",
        "colab": {
          "base_uri": "https://localhost:8080/",
          "height": 206
        },
        "outputId": "807ace73-99d7-4e49-ddb6-fddc66bbdb20"
      },
      "source": [
        "import pandas as pd\n",
        "import numpy as np\n",
        "from sklearn.linear_model import LinearRegression\n",
        "from sklearn.model_selection import train_test_split\n",
        "import matplotlib.pyplot as plt\n",
        "from sklearn.linear_model import SGDRegressor\n",
        "from sklearn import preprocessing\n",
        "from sklearn.metrics import r2_score\n",
        "import sklearn\n",
        "from sklearn.datasets import load_boston\n",
        "from sklearn.metrics import mean_squared_error\n",
        "from sklearn.metrics import mean_absolute_error\n",
        "import math\n",
        "%matplotlib inline\n",
        "\n",
        "\n",
        "boston_df = pd.DataFrame(load_boston().data,columns = load_boston().feature_names)\n",
        "\n",
        "boston = sklearn.datasets.load_boston(return_X_y=False)\n",
        "dataf = pd.DataFrame(boston.data)\n",
        "\n",
        "y = load_boston().target\n",
        "x = load_boston().data\n",
        "\n",
        "boston_df.head(5)"
      ],
      "execution_count": null,
      "outputs": [
        {
          "output_type": "execute_result",
          "data": {
            "text/html": [
              "<div>\n",
              "<style scoped>\n",
              "    .dataframe tbody tr th:only-of-type {\n",
              "        vertical-align: middle;\n",
              "    }\n",
              "\n",
              "    .dataframe tbody tr th {\n",
              "        vertical-align: top;\n",
              "    }\n",
              "\n",
              "    .dataframe thead th {\n",
              "        text-align: right;\n",
              "    }\n",
              "</style>\n",
              "<table border=\"1\" class=\"dataframe\">\n",
              "  <thead>\n",
              "    <tr style=\"text-align: right;\">\n",
              "      <th></th>\n",
              "      <th>CRIM</th>\n",
              "      <th>ZN</th>\n",
              "      <th>INDUS</th>\n",
              "      <th>CHAS</th>\n",
              "      <th>NOX</th>\n",
              "      <th>RM</th>\n",
              "      <th>AGE</th>\n",
              "      <th>DIS</th>\n",
              "      <th>RAD</th>\n",
              "      <th>TAX</th>\n",
              "      <th>PTRATIO</th>\n",
              "      <th>B</th>\n",
              "      <th>LSTAT</th>\n",
              "    </tr>\n",
              "  </thead>\n",
              "  <tbody>\n",
              "    <tr>\n",
              "      <th>0</th>\n",
              "      <td>0.00632</td>\n",
              "      <td>18.0</td>\n",
              "      <td>2.31</td>\n",
              "      <td>0.0</td>\n",
              "      <td>0.538</td>\n",
              "      <td>6.575</td>\n",
              "      <td>65.2</td>\n",
              "      <td>4.0900</td>\n",
              "      <td>1.0</td>\n",
              "      <td>296.0</td>\n",
              "      <td>15.3</td>\n",
              "      <td>396.90</td>\n",
              "      <td>4.98</td>\n",
              "    </tr>\n",
              "    <tr>\n",
              "      <th>1</th>\n",
              "      <td>0.02731</td>\n",
              "      <td>0.0</td>\n",
              "      <td>7.07</td>\n",
              "      <td>0.0</td>\n",
              "      <td>0.469</td>\n",
              "      <td>6.421</td>\n",
              "      <td>78.9</td>\n",
              "      <td>4.9671</td>\n",
              "      <td>2.0</td>\n",
              "      <td>242.0</td>\n",
              "      <td>17.8</td>\n",
              "      <td>396.90</td>\n",
              "      <td>9.14</td>\n",
              "    </tr>\n",
              "    <tr>\n",
              "      <th>2</th>\n",
              "      <td>0.02729</td>\n",
              "      <td>0.0</td>\n",
              "      <td>7.07</td>\n",
              "      <td>0.0</td>\n",
              "      <td>0.469</td>\n",
              "      <td>7.185</td>\n",
              "      <td>61.1</td>\n",
              "      <td>4.9671</td>\n",
              "      <td>2.0</td>\n",
              "      <td>242.0</td>\n",
              "      <td>17.8</td>\n",
              "      <td>392.83</td>\n",
              "      <td>4.03</td>\n",
              "    </tr>\n",
              "    <tr>\n",
              "      <th>3</th>\n",
              "      <td>0.03237</td>\n",
              "      <td>0.0</td>\n",
              "      <td>2.18</td>\n",
              "      <td>0.0</td>\n",
              "      <td>0.458</td>\n",
              "      <td>6.998</td>\n",
              "      <td>45.8</td>\n",
              "      <td>6.0622</td>\n",
              "      <td>3.0</td>\n",
              "      <td>222.0</td>\n",
              "      <td>18.7</td>\n",
              "      <td>394.63</td>\n",
              "      <td>2.94</td>\n",
              "    </tr>\n",
              "    <tr>\n",
              "      <th>4</th>\n",
              "      <td>0.06905</td>\n",
              "      <td>0.0</td>\n",
              "      <td>2.18</td>\n",
              "      <td>0.0</td>\n",
              "      <td>0.458</td>\n",
              "      <td>7.147</td>\n",
              "      <td>54.2</td>\n",
              "      <td>6.0622</td>\n",
              "      <td>3.0</td>\n",
              "      <td>222.0</td>\n",
              "      <td>18.7</td>\n",
              "      <td>396.90</td>\n",
              "      <td>5.33</td>\n",
              "    </tr>\n",
              "  </tbody>\n",
              "</table>\n",
              "</div>"
            ],
            "text/plain": [
              "      CRIM    ZN  INDUS  CHAS    NOX  ...  RAD    TAX  PTRATIO       B  LSTAT\n",
              "0  0.00632  18.0   2.31   0.0  0.538  ...  1.0  296.0     15.3  396.90   4.98\n",
              "1  0.02731   0.0   7.07   0.0  0.469  ...  2.0  242.0     17.8  396.90   9.14\n",
              "2  0.02729   0.0   7.07   0.0  0.469  ...  2.0  242.0     17.8  392.83   4.03\n",
              "3  0.03237   0.0   2.18   0.0  0.458  ...  3.0  222.0     18.7  394.63   2.94\n",
              "4  0.06905   0.0   2.18   0.0  0.458  ...  3.0  222.0     18.7  396.90   5.33\n",
              "\n",
              "[5 rows x 13 columns]"
            ]
          },
          "metadata": {
            "tags": []
          },
          "execution_count": 154
        }
      ]
    },
    {
      "cell_type": "code",
      "metadata": {
        "id": "Scxjh2sINm0S",
        "colab_type": "code",
        "colab": {
          "base_uri": "https://localhost:8080/",
          "height": 206
        },
        "outputId": "349d9b03-9118-4bdc-a509-caec3a2a2dc7"
      },
      "source": [
        "boston_df[\"Price\"] = y\n",
        "boston_df.head()"
      ],
      "execution_count": null,
      "outputs": [
        {
          "output_type": "execute_result",
          "data": {
            "text/html": [
              "<div>\n",
              "<style scoped>\n",
              "    .dataframe tbody tr th:only-of-type {\n",
              "        vertical-align: middle;\n",
              "    }\n",
              "\n",
              "    .dataframe tbody tr th {\n",
              "        vertical-align: top;\n",
              "    }\n",
              "\n",
              "    .dataframe thead th {\n",
              "        text-align: right;\n",
              "    }\n",
              "</style>\n",
              "<table border=\"1\" class=\"dataframe\">\n",
              "  <thead>\n",
              "    <tr style=\"text-align: right;\">\n",
              "      <th></th>\n",
              "      <th>CRIM</th>\n",
              "      <th>ZN</th>\n",
              "      <th>INDUS</th>\n",
              "      <th>CHAS</th>\n",
              "      <th>NOX</th>\n",
              "      <th>RM</th>\n",
              "      <th>AGE</th>\n",
              "      <th>DIS</th>\n",
              "      <th>RAD</th>\n",
              "      <th>TAX</th>\n",
              "      <th>PTRATIO</th>\n",
              "      <th>B</th>\n",
              "      <th>LSTAT</th>\n",
              "      <th>Price</th>\n",
              "    </tr>\n",
              "  </thead>\n",
              "  <tbody>\n",
              "    <tr>\n",
              "      <th>0</th>\n",
              "      <td>0.00632</td>\n",
              "      <td>18.0</td>\n",
              "      <td>2.31</td>\n",
              "      <td>0.0</td>\n",
              "      <td>0.538</td>\n",
              "      <td>6.575</td>\n",
              "      <td>65.2</td>\n",
              "      <td>4.0900</td>\n",
              "      <td>1.0</td>\n",
              "      <td>296.0</td>\n",
              "      <td>15.3</td>\n",
              "      <td>396.90</td>\n",
              "      <td>4.98</td>\n",
              "      <td>24.0</td>\n",
              "    </tr>\n",
              "    <tr>\n",
              "      <th>1</th>\n",
              "      <td>0.02731</td>\n",
              "      <td>0.0</td>\n",
              "      <td>7.07</td>\n",
              "      <td>0.0</td>\n",
              "      <td>0.469</td>\n",
              "      <td>6.421</td>\n",
              "      <td>78.9</td>\n",
              "      <td>4.9671</td>\n",
              "      <td>2.0</td>\n",
              "      <td>242.0</td>\n",
              "      <td>17.8</td>\n",
              "      <td>396.90</td>\n",
              "      <td>9.14</td>\n",
              "      <td>21.6</td>\n",
              "    </tr>\n",
              "    <tr>\n",
              "      <th>2</th>\n",
              "      <td>0.02729</td>\n",
              "      <td>0.0</td>\n",
              "      <td>7.07</td>\n",
              "      <td>0.0</td>\n",
              "      <td>0.469</td>\n",
              "      <td>7.185</td>\n",
              "      <td>61.1</td>\n",
              "      <td>4.9671</td>\n",
              "      <td>2.0</td>\n",
              "      <td>242.0</td>\n",
              "      <td>17.8</td>\n",
              "      <td>392.83</td>\n",
              "      <td>4.03</td>\n",
              "      <td>34.7</td>\n",
              "    </tr>\n",
              "    <tr>\n",
              "      <th>3</th>\n",
              "      <td>0.03237</td>\n",
              "      <td>0.0</td>\n",
              "      <td>2.18</td>\n",
              "      <td>0.0</td>\n",
              "      <td>0.458</td>\n",
              "      <td>6.998</td>\n",
              "      <td>45.8</td>\n",
              "      <td>6.0622</td>\n",
              "      <td>3.0</td>\n",
              "      <td>222.0</td>\n",
              "      <td>18.7</td>\n",
              "      <td>394.63</td>\n",
              "      <td>2.94</td>\n",
              "      <td>33.4</td>\n",
              "    </tr>\n",
              "    <tr>\n",
              "      <th>4</th>\n",
              "      <td>0.06905</td>\n",
              "      <td>0.0</td>\n",
              "      <td>2.18</td>\n",
              "      <td>0.0</td>\n",
              "      <td>0.458</td>\n",
              "      <td>7.147</td>\n",
              "      <td>54.2</td>\n",
              "      <td>6.0622</td>\n",
              "      <td>3.0</td>\n",
              "      <td>222.0</td>\n",
              "      <td>18.7</td>\n",
              "      <td>396.90</td>\n",
              "      <td>5.33</td>\n",
              "      <td>36.2</td>\n",
              "    </tr>\n",
              "  </tbody>\n",
              "</table>\n",
              "</div>"
            ],
            "text/plain": [
              "      CRIM    ZN  INDUS  CHAS    NOX  ...    TAX  PTRATIO       B  LSTAT  Price\n",
              "0  0.00632  18.0   2.31   0.0  0.538  ...  296.0     15.3  396.90   4.98   24.0\n",
              "1  0.02731   0.0   7.07   0.0  0.469  ...  242.0     17.8  396.90   9.14   21.6\n",
              "2  0.02729   0.0   7.07   0.0  0.469  ...  242.0     17.8  392.83   4.03   34.7\n",
              "3  0.03237   0.0   2.18   0.0  0.458  ...  222.0     18.7  394.63   2.94   33.4\n",
              "4  0.06905   0.0   2.18   0.0  0.458  ...  222.0     18.7  396.90   5.33   36.2\n",
              "\n",
              "[5 rows x 14 columns]"
            ]
          },
          "metadata": {
            "tags": []
          },
          "execution_count": 155
        }
      ]
    },
    {
      "cell_type": "code",
      "metadata": {
        "id": "gDZygioAUJl7",
        "colab_type": "code",
        "colab": {
          "base_uri": "https://localhost:8080/",
          "height": 991
        },
        "outputId": "5fc4f949-0617-4b43-b348-e4cb7c5849f1"
      },
      "source": [
        "print(boston.DESCR)"
      ],
      "execution_count": null,
      "outputs": [
        {
          "output_type": "stream",
          "text": [
            ".. _boston_dataset:\n",
            "\n",
            "Boston house prices dataset\n",
            "---------------------------\n",
            "\n",
            "**Data Set Characteristics:**  \n",
            "\n",
            "    :Number of Instances: 506 \n",
            "\n",
            "    :Number of Attributes: 13 numeric/categorical predictive. Median Value (attribute 14) is usually the target.\n",
            "\n",
            "    :Attribute Information (in order):\n",
            "        - CRIM     per capita crime rate by town\n",
            "        - ZN       proportion of residential land zoned for lots over 25,000 sq.ft.\n",
            "        - INDUS    proportion of non-retail business acres per town\n",
            "        - CHAS     Charles River dummy variable (= 1 if tract bounds river; 0 otherwise)\n",
            "        - NOX      nitric oxides concentration (parts per 10 million)\n",
            "        - RM       average number of rooms per dwelling\n",
            "        - AGE      proportion of owner-occupied units built prior to 1940\n",
            "        - DIS      weighted distances to five Boston employment centres\n",
            "        - RAD      index of accessibility to radial highways\n",
            "        - TAX      full-value property-tax rate per $10,000\n",
            "        - PTRATIO  pupil-teacher ratio by town\n",
            "        - B        1000(Bk - 0.63)^2 where Bk is the proportion of blacks by town\n",
            "        - LSTAT    % lower status of the population\n",
            "        - MEDV     Median value of owner-occupied homes in $1000's\n",
            "\n",
            "    :Missing Attribute Values: None\n",
            "\n",
            "    :Creator: Harrison, D. and Rubinfeld, D.L.\n",
            "\n",
            "This is a copy of UCI ML housing dataset.\n",
            "https://archive.ics.uci.edu/ml/machine-learning-databases/housing/\n",
            "\n",
            "\n",
            "This dataset was taken from the StatLib library which is maintained at Carnegie Mellon University.\n",
            "\n",
            "The Boston house-price data of Harrison, D. and Rubinfeld, D.L. 'Hedonic\n",
            "prices and the demand for clean air', J. Environ. Economics & Management,\n",
            "vol.5, 81-102, 1978.   Used in Belsley, Kuh & Welsch, 'Regression diagnostics\n",
            "...', Wiley, 1980.   N.B. Various transformations are used in the table on\n",
            "pages 244-261 of the latter.\n",
            "\n",
            "The Boston house-price data has been used in many machine learning papers that address regression\n",
            "problems.   \n",
            "     \n",
            ".. topic:: References\n",
            "\n",
            "   - Belsley, Kuh & Welsch, 'Regression diagnostics: Identifying Influential Data and Sources of Collinearity', Wiley, 1980. 244-261.\n",
            "   - Quinlan,R. (1993). Combining Instance-Based and Model-Based Learning. In Proceedings on the Tenth International Conference of Machine Learning, 236-243, University of Massachusetts, Amherst. Morgan Kaufmann.\n",
            "\n"
          ],
          "name": "stdout"
        }
      ]
    },
    {
      "cell_type": "code",
      "metadata": {
        "id": "nY2JNc5yGONV",
        "colab_type": "code",
        "colab": {
          "base_uri": "https://localhost:8080/",
          "height": 320
        },
        "outputId": "80771f3c-b0ba-41f7-b872-281fec8921fb"
      },
      "source": [
        "boston_df.describe()"
      ],
      "execution_count": null,
      "outputs": [
        {
          "output_type": "execute_result",
          "data": {
            "text/html": [
              "<div>\n",
              "<style scoped>\n",
              "    .dataframe tbody tr th:only-of-type {\n",
              "        vertical-align: middle;\n",
              "    }\n",
              "\n",
              "    .dataframe tbody tr th {\n",
              "        vertical-align: top;\n",
              "    }\n",
              "\n",
              "    .dataframe thead th {\n",
              "        text-align: right;\n",
              "    }\n",
              "</style>\n",
              "<table border=\"1\" class=\"dataframe\">\n",
              "  <thead>\n",
              "    <tr style=\"text-align: right;\">\n",
              "      <th></th>\n",
              "      <th>CRIM</th>\n",
              "      <th>ZN</th>\n",
              "      <th>INDUS</th>\n",
              "      <th>CHAS</th>\n",
              "      <th>NOX</th>\n",
              "      <th>RM</th>\n",
              "      <th>AGE</th>\n",
              "      <th>DIS</th>\n",
              "      <th>RAD</th>\n",
              "      <th>TAX</th>\n",
              "      <th>PTRATIO</th>\n",
              "      <th>B</th>\n",
              "      <th>LSTAT</th>\n",
              "      <th>Price</th>\n",
              "    </tr>\n",
              "  </thead>\n",
              "  <tbody>\n",
              "    <tr>\n",
              "      <th>count</th>\n",
              "      <td>506.000000</td>\n",
              "      <td>506.000000</td>\n",
              "      <td>506.000000</td>\n",
              "      <td>506.000000</td>\n",
              "      <td>506.000000</td>\n",
              "      <td>506.000000</td>\n",
              "      <td>506.000000</td>\n",
              "      <td>506.000000</td>\n",
              "      <td>506.000000</td>\n",
              "      <td>506.000000</td>\n",
              "      <td>506.000000</td>\n",
              "      <td>506.000000</td>\n",
              "      <td>506.000000</td>\n",
              "      <td>506.000000</td>\n",
              "    </tr>\n",
              "    <tr>\n",
              "      <th>mean</th>\n",
              "      <td>3.613524</td>\n",
              "      <td>11.363636</td>\n",
              "      <td>11.136779</td>\n",
              "      <td>0.069170</td>\n",
              "      <td>0.554695</td>\n",
              "      <td>6.284634</td>\n",
              "      <td>68.574901</td>\n",
              "      <td>3.795043</td>\n",
              "      <td>9.549407</td>\n",
              "      <td>408.237154</td>\n",
              "      <td>18.455534</td>\n",
              "      <td>356.674032</td>\n",
              "      <td>12.653063</td>\n",
              "      <td>22.532806</td>\n",
              "    </tr>\n",
              "    <tr>\n",
              "      <th>std</th>\n",
              "      <td>8.601545</td>\n",
              "      <td>23.322453</td>\n",
              "      <td>6.860353</td>\n",
              "      <td>0.253994</td>\n",
              "      <td>0.115878</td>\n",
              "      <td>0.702617</td>\n",
              "      <td>28.148861</td>\n",
              "      <td>2.105710</td>\n",
              "      <td>8.707259</td>\n",
              "      <td>168.537116</td>\n",
              "      <td>2.164946</td>\n",
              "      <td>91.294864</td>\n",
              "      <td>7.141062</td>\n",
              "      <td>9.197104</td>\n",
              "    </tr>\n",
              "    <tr>\n",
              "      <th>min</th>\n",
              "      <td>0.006320</td>\n",
              "      <td>0.000000</td>\n",
              "      <td>0.460000</td>\n",
              "      <td>0.000000</td>\n",
              "      <td>0.385000</td>\n",
              "      <td>3.561000</td>\n",
              "      <td>2.900000</td>\n",
              "      <td>1.129600</td>\n",
              "      <td>1.000000</td>\n",
              "      <td>187.000000</td>\n",
              "      <td>12.600000</td>\n",
              "      <td>0.320000</td>\n",
              "      <td>1.730000</td>\n",
              "      <td>5.000000</td>\n",
              "    </tr>\n",
              "    <tr>\n",
              "      <th>25%</th>\n",
              "      <td>0.082045</td>\n",
              "      <td>0.000000</td>\n",
              "      <td>5.190000</td>\n",
              "      <td>0.000000</td>\n",
              "      <td>0.449000</td>\n",
              "      <td>5.885500</td>\n",
              "      <td>45.025000</td>\n",
              "      <td>2.100175</td>\n",
              "      <td>4.000000</td>\n",
              "      <td>279.000000</td>\n",
              "      <td>17.400000</td>\n",
              "      <td>375.377500</td>\n",
              "      <td>6.950000</td>\n",
              "      <td>17.025000</td>\n",
              "    </tr>\n",
              "    <tr>\n",
              "      <th>50%</th>\n",
              "      <td>0.256510</td>\n",
              "      <td>0.000000</td>\n",
              "      <td>9.690000</td>\n",
              "      <td>0.000000</td>\n",
              "      <td>0.538000</td>\n",
              "      <td>6.208500</td>\n",
              "      <td>77.500000</td>\n",
              "      <td>3.207450</td>\n",
              "      <td>5.000000</td>\n",
              "      <td>330.000000</td>\n",
              "      <td>19.050000</td>\n",
              "      <td>391.440000</td>\n",
              "      <td>11.360000</td>\n",
              "      <td>21.200000</td>\n",
              "    </tr>\n",
              "    <tr>\n",
              "      <th>75%</th>\n",
              "      <td>3.677083</td>\n",
              "      <td>12.500000</td>\n",
              "      <td>18.100000</td>\n",
              "      <td>0.000000</td>\n",
              "      <td>0.624000</td>\n",
              "      <td>6.623500</td>\n",
              "      <td>94.075000</td>\n",
              "      <td>5.188425</td>\n",
              "      <td>24.000000</td>\n",
              "      <td>666.000000</td>\n",
              "      <td>20.200000</td>\n",
              "      <td>396.225000</td>\n",
              "      <td>16.955000</td>\n",
              "      <td>25.000000</td>\n",
              "    </tr>\n",
              "    <tr>\n",
              "      <th>max</th>\n",
              "      <td>88.976200</td>\n",
              "      <td>100.000000</td>\n",
              "      <td>27.740000</td>\n",
              "      <td>1.000000</td>\n",
              "      <td>0.871000</td>\n",
              "      <td>8.780000</td>\n",
              "      <td>100.000000</td>\n",
              "      <td>12.126500</td>\n",
              "      <td>24.000000</td>\n",
              "      <td>711.000000</td>\n",
              "      <td>22.000000</td>\n",
              "      <td>396.900000</td>\n",
              "      <td>37.970000</td>\n",
              "      <td>50.000000</td>\n",
              "    </tr>\n",
              "  </tbody>\n",
              "</table>\n",
              "</div>"
            ],
            "text/plain": [
              "             CRIM          ZN       INDUS  ...           B       LSTAT       Price\n",
              "count  506.000000  506.000000  506.000000  ...  506.000000  506.000000  506.000000\n",
              "mean     3.613524   11.363636   11.136779  ...  356.674032   12.653063   22.532806\n",
              "std      8.601545   23.322453    6.860353  ...   91.294864    7.141062    9.197104\n",
              "min      0.006320    0.000000    0.460000  ...    0.320000    1.730000    5.000000\n",
              "25%      0.082045    0.000000    5.190000  ...  375.377500    6.950000   17.025000\n",
              "50%      0.256510    0.000000    9.690000  ...  391.440000   11.360000   21.200000\n",
              "75%      3.677083   12.500000   18.100000  ...  396.225000   16.955000   25.000000\n",
              "max     88.976200  100.000000   27.740000  ...  396.900000   37.970000   50.000000\n",
              "\n",
              "[8 rows x 14 columns]"
            ]
          },
          "metadata": {
            "tags": []
          },
          "execution_count": 157
        }
      ]
    },
    {
      "cell_type": "markdown",
      "metadata": {
        "id": "P7sxqORUXfqo",
        "colab_type": "text"
      },
      "source": [
        "Outliers :\n",
        "* suspected in CRIM as mean is 3.6, 75th percentile is 3.6 but max is 88. (Removed)\n",
        "* ZN as mean is 11.1, 75th percentile is 12.5 but max is 100 (Not removed due significant number of points)\n",
        "* suspected in B as min is .32 but 25th percentile is 376 with mean as 356 (Not-Removed as corr is very low < 20%)\n",
        "* suspected in INDUS as min is < 1 but 25th percentile is 5 and mean is 11"
      ]
    },
    {
      "cell_type": "markdown",
      "metadata": {
        "id": "ehuTSZewYAvK",
        "colab_type": "text"
      },
      "source": [
        "### Removing outliers from CRIM"
      ]
    },
    {
      "cell_type": "code",
      "metadata": {
        "id": "sfQIKuQVT90r",
        "colab_type": "code",
        "colab": {
          "base_uri": "https://localhost:8080/",
          "height": 339
        },
        "outputId": "1d44dc89-6195-448c-8494-0a81e908a1fa"
      },
      "source": [
        "fig,ax = plt.subplots(figsize= (7,5))\n",
        "ax.scatter(boston_df.CRIM,boston_df.Price,s=3)"
      ],
      "execution_count": null,
      "outputs": [
        {
          "output_type": "execute_result",
          "data": {
            "text/plain": [
              "<matplotlib.collections.PathCollection at 0x7f3eff5e8f28>"
            ]
          },
          "metadata": {
            "tags": []
          },
          "execution_count": 158
        },
        {
          "output_type": "display_data",
          "data": {
            "image/png": "[encoded data removed]",
            "text/plain": [
              "<Figure size 504x360 with 1 Axes>"
            ]
          },
          "metadata": {
            "tags": [],
            "needs_background": "light"
          }
        }
      ]
    },
    {
      "cell_type": "code",
      "metadata": {
        "id": "VRcvn62LGm_d",
        "colab_type": "code",
        "colab": {
          "base_uri": "https://localhost:8080/",
          "height": 300
        },
        "outputId": "734b3103-1a9f-4c4b-f7e6-2438c1be806c"
      },
      "source": [
        "boston_df[boston_df.CRIM >30]"
      ],
      "execution_count": null,
      "outputs": [
        {
          "output_type": "execute_result",
          "data": {
            "text/html": [
              "<div>\n",
              "<style scoped>\n",
              "    .dataframe tbody tr th:only-of-type {\n",
              "        vertical-align: middle;\n",
              "    }\n",
              "\n",
              "    .dataframe tbody tr th {\n",
              "        vertical-align: top;\n",
              "    }\n",
              "\n",
              "    .dataframe thead th {\n",
              "        text-align: right;\n",
              "    }\n",
              "</style>\n",
              "<table border=\"1\" class=\"dataframe\">\n",
              "  <thead>\n",
              "    <tr style=\"text-align: right;\">\n",
              "      <th></th>\n",
              "      <th>CRIM</th>\n",
              "      <th>ZN</th>\n",
              "      <th>INDUS</th>\n",
              "      <th>CHAS</th>\n",
              "      <th>NOX</th>\n",
              "      <th>RM</th>\n",
              "      <th>AGE</th>\n",
              "      <th>DIS</th>\n",
              "      <th>RAD</th>\n",
              "      <th>TAX</th>\n",
              "      <th>PTRATIO</th>\n",
              "      <th>B</th>\n",
              "      <th>LSTAT</th>\n",
              "      <th>Price</th>\n",
              "    </tr>\n",
              "  </thead>\n",
              "  <tbody>\n",
              "    <tr>\n",
              "      <th>380</th>\n",
              "      <td>88.9762</td>\n",
              "      <td>0.0</td>\n",
              "      <td>18.1</td>\n",
              "      <td>0.0</td>\n",
              "      <td>0.671</td>\n",
              "      <td>6.968</td>\n",
              "      <td>91.9</td>\n",
              "      <td>1.4165</td>\n",
              "      <td>24.0</td>\n",
              "      <td>666.0</td>\n",
              "      <td>20.2</td>\n",
              "      <td>396.90</td>\n",
              "      <td>17.21</td>\n",
              "      <td>10.4</td>\n",
              "    </tr>\n",
              "    <tr>\n",
              "      <th>398</th>\n",
              "      <td>38.3518</td>\n",
              "      <td>0.0</td>\n",
              "      <td>18.1</td>\n",
              "      <td>0.0</td>\n",
              "      <td>0.693</td>\n",
              "      <td>5.453</td>\n",
              "      <td>100.0</td>\n",
              "      <td>1.4896</td>\n",
              "      <td>24.0</td>\n",
              "      <td>666.0</td>\n",
              "      <td>20.2</td>\n",
              "      <td>396.90</td>\n",
              "      <td>30.59</td>\n",
              "      <td>5.0</td>\n",
              "    </tr>\n",
              "    <tr>\n",
              "      <th>404</th>\n",
              "      <td>41.5292</td>\n",
              "      <td>0.0</td>\n",
              "      <td>18.1</td>\n",
              "      <td>0.0</td>\n",
              "      <td>0.693</td>\n",
              "      <td>5.531</td>\n",
              "      <td>85.4</td>\n",
              "      <td>1.6074</td>\n",
              "      <td>24.0</td>\n",
              "      <td>666.0</td>\n",
              "      <td>20.2</td>\n",
              "      <td>329.46</td>\n",
              "      <td>27.38</td>\n",
              "      <td>8.5</td>\n",
              "    </tr>\n",
              "    <tr>\n",
              "      <th>405</th>\n",
              "      <td>67.9208</td>\n",
              "      <td>0.0</td>\n",
              "      <td>18.1</td>\n",
              "      <td>0.0</td>\n",
              "      <td>0.693</td>\n",
              "      <td>5.683</td>\n",
              "      <td>100.0</td>\n",
              "      <td>1.4254</td>\n",
              "      <td>24.0</td>\n",
              "      <td>666.0</td>\n",
              "      <td>20.2</td>\n",
              "      <td>384.97</td>\n",
              "      <td>22.98</td>\n",
              "      <td>5.0</td>\n",
              "    </tr>\n",
              "    <tr>\n",
              "      <th>410</th>\n",
              "      <td>51.1358</td>\n",
              "      <td>0.0</td>\n",
              "      <td>18.1</td>\n",
              "      <td>0.0</td>\n",
              "      <td>0.597</td>\n",
              "      <td>5.757</td>\n",
              "      <td>100.0</td>\n",
              "      <td>1.4130</td>\n",
              "      <td>24.0</td>\n",
              "      <td>666.0</td>\n",
              "      <td>20.2</td>\n",
              "      <td>2.60</td>\n",
              "      <td>10.11</td>\n",
              "      <td>15.0</td>\n",
              "    </tr>\n",
              "    <tr>\n",
              "      <th>414</th>\n",
              "      <td>45.7461</td>\n",
              "      <td>0.0</td>\n",
              "      <td>18.1</td>\n",
              "      <td>0.0</td>\n",
              "      <td>0.693</td>\n",
              "      <td>4.519</td>\n",
              "      <td>100.0</td>\n",
              "      <td>1.6582</td>\n",
              "      <td>24.0</td>\n",
              "      <td>666.0</td>\n",
              "      <td>20.2</td>\n",
              "      <td>88.27</td>\n",
              "      <td>36.98</td>\n",
              "      <td>7.0</td>\n",
              "    </tr>\n",
              "    <tr>\n",
              "      <th>418</th>\n",
              "      <td>73.5341</td>\n",
              "      <td>0.0</td>\n",
              "      <td>18.1</td>\n",
              "      <td>0.0</td>\n",
              "      <td>0.679</td>\n",
              "      <td>5.957</td>\n",
              "      <td>100.0</td>\n",
              "      <td>1.8026</td>\n",
              "      <td>24.0</td>\n",
              "      <td>666.0</td>\n",
              "      <td>20.2</td>\n",
              "      <td>16.45</td>\n",
              "      <td>20.62</td>\n",
              "      <td>8.8</td>\n",
              "    </tr>\n",
              "    <tr>\n",
              "      <th>427</th>\n",
              "      <td>37.6619</td>\n",
              "      <td>0.0</td>\n",
              "      <td>18.1</td>\n",
              "      <td>0.0</td>\n",
              "      <td>0.679</td>\n",
              "      <td>6.202</td>\n",
              "      <td>78.7</td>\n",
              "      <td>1.8629</td>\n",
              "      <td>24.0</td>\n",
              "      <td>666.0</td>\n",
              "      <td>20.2</td>\n",
              "      <td>18.82</td>\n",
              "      <td>14.52</td>\n",
              "      <td>10.9</td>\n",
              "    </tr>\n",
              "  </tbody>\n",
              "</table>\n",
              "</div>"
            ],
            "text/plain": [
              "        CRIM   ZN  INDUS  CHAS    NOX  ...    TAX  PTRATIO       B  LSTAT  Price\n",
              "380  88.9762  0.0   18.1   0.0  0.671  ...  666.0     20.2  396.90  17.21   10.4\n",
              "398  38.3518  0.0   18.1   0.0  0.693  ...  666.0     20.2  396.90  30.59    5.0\n",
              "404  41.5292  0.0   18.1   0.0  0.693  ...  666.0     20.2  329.46  27.38    8.5\n",
              "405  67.9208  0.0   18.1   0.0  0.693  ...  666.0     20.2  384.97  22.98    5.0\n",
              "410  51.1358  0.0   18.1   0.0  0.597  ...  666.0     20.2    2.60  10.11   15.0\n",
              "414  45.7461  0.0   18.1   0.0  0.693  ...  666.0     20.2   88.27  36.98    7.0\n",
              "418  73.5341  0.0   18.1   0.0  0.679  ...  666.0     20.2   16.45  20.62    8.8\n",
              "427  37.6619  0.0   18.1   0.0  0.679  ...  666.0     20.2   18.82  14.52   10.9\n",
              "\n",
              "[8 rows x 14 columns]"
            ]
          },
          "metadata": {
            "tags": []
          },
          "execution_count": 159
        }
      ]
    },
    {
      "cell_type": "markdown",
      "metadata": {
        "id": "qWSt0aTpIfy4",
        "colab_type": "text"
      },
      "source": [
        "\n",
        "I will choose to remove the outliers altogether, instead of renormalizing them in any other way."
      ]
    },
    {
      "cell_type": "code",
      "metadata": {
        "id": "pdnnunzNU4q7",
        "colab_type": "code",
        "colab": {}
      },
      "source": [
        "for i in range(len(x)-1):\n",
        "    if x[i][0] > 30:\n",
        "        x = np.delete(x,i,0)\n",
        "        y = np.delete(y,i,0)\n",
        "#outliers deleted\n",
        "for i in range(len(x)-1):\n",
        "    if x[i][0] > 30:\n",
        "        print(\"True\")"
      ],
      "execution_count": null,
      "outputs": []
    },
    {
      "cell_type": "code",
      "metadata": {
        "id": "cqkHhqDvXSvr",
        "colab_type": "code",
        "colab": {}
      },
      "source": [
        "boston_df.drop(index=[380,398,404,405,410,414,418,427],inplace=True)"
      ],
      "execution_count": null,
      "outputs": []
    },
    {
      "cell_type": "markdown",
      "metadata": {
        "id": "QsAMFwaFYy5q",
        "colab_type": "text"
      },
      "source": [
        "### Removing outliers from ZN"
      ]
    },
    {
      "cell_type": "code",
      "metadata": {
        "id": "CISO-X51ZDuY",
        "colab_type": "code",
        "colab": {
          "base_uri": "https://localhost:8080/",
          "height": 339
        },
        "outputId": "9a8ab468-9e1b-4c63-bd09-76cda509868c"
      },
      "source": [
        "fig,ax = plt.subplots(figsize= (7,5))\n",
        "ax.scatter(boston_df.Price,boston_df.ZN,s=3)"
      ],
      "execution_count": null,
      "outputs": [
        {
          "output_type": "execute_result",
          "data": {
            "text/plain": [
              "<matplotlib.collections.PathCollection at 0x7f3f01e51438>"
            ]
          },
          "metadata": {
            "tags": []
          },
          "execution_count": 162
        },
        {
          "output_type": "display_data",
          "data": {
            "image/png": "[encoded data removed]",
            "text/plain": [
              "<Figure size 504x360 with 1 Axes>"
            ]
          },
          "metadata": {
            "tags": [],
            "needs_background": "light"
          }
        }
      ]
    },
    {
      "cell_type": "code",
      "metadata": {
        "id": "rE23RCVYZDNl",
        "colab_type": "code",
        "colab": {
          "base_uri": "https://localhost:8080/",
          "height": 36
        },
        "outputId": "e8dd6430-a71f-4dbe-e22f-0a48ea35c29b"
      },
      "source": [
        "len(boston_df[boston_df.ZN > 80])"
      ],
      "execution_count": null,
      "outputs": [
        {
          "output_type": "execute_result",
          "data": {
            "text/plain": [
              "14"
            ]
          },
          "metadata": {
            "tags": []
          },
          "execution_count": 163
        }
      ]
    },
    {
      "cell_type": "markdown",
      "metadata": {
        "id": "FR2YgN6McKAL",
        "colab_type": "text"
      },
      "source": [
        "Decided not to remove any points from ZN"
      ]
    },
    {
      "cell_type": "markdown",
      "metadata": {
        "id": "s38U--owdLpF",
        "colab_type": "text"
      },
      "source": [
        "### Outliers in B"
      ]
    },
    {
      "cell_type": "code",
      "metadata": {
        "id": "Ty8HDVaCdQ70",
        "colab_type": "code",
        "colab": {
          "base_uri": "https://localhost:8080/",
          "height": 339
        },
        "outputId": "86cf918d-a9dc-405a-9cd0-ed1146aea8e4"
      },
      "source": [
        "fig,ax = plt.subplots(figsize= (7,5))\n",
        "ax.scatter(boston_df.Price,boston_df.B,s=3)"
      ],
      "execution_count": null,
      "outputs": [
        {
          "output_type": "execute_result",
          "data": {
            "text/plain": [
              "<matplotlib.collections.PathCollection at 0x7f3effd341d0>"
            ]
          },
          "metadata": {
            "tags": []
          },
          "execution_count": 164
        },
        {
          "output_type": "display_data",
          "data": {
            "image/png": "[encoded data removed]",
            "text/plain": [
              "<Figure size 504x360 with 1 Axes>"
            ]
          },
          "metadata": {
            "tags": [],
            "needs_background": "light"
          }
        }
      ]
    },
    {
      "cell_type": "code",
      "metadata": {
        "id": "jLKAxHD4dZGz",
        "colab_type": "code",
        "colab": {}
      },
      "source": [
        "len(boston_df[boston_df.B < 150])"
      ],
      "execution_count": null,
      "outputs": []
    },
    {
      "cell_type": "code",
      "metadata": {
        "id": "JxiZO4M8eFo1",
        "colab_type": "code",
        "colab": {
          "base_uri": "https://localhost:8080/",
          "height": 339
        },
        "outputId": "feb0f219-643d-43e3-8136-940260ac4a1b"
      },
      "source": [
        "fig,ax = plt.subplots(figsize= (7,5))\n",
        "ax.scatter(boston_df.Price,boston_df.INDUS,s=3)"
      ],
      "execution_count": null,
      "outputs": [
        {
          "output_type": "execute_result",
          "data": {
            "text/plain": [
              "<matplotlib.collections.PathCollection at 0x7f3eff56fd30>"
            ]
          },
          "metadata": {
            "tags": []
          },
          "execution_count": 171
        },
        {
          "output_type": "display_data",
          "data": {
            "image/png": "[encoded data removed]",
            "text/plain": [
              "<Figure size 504x360 with 1 Axes>"
            ]
          },
          "metadata": {
            "tags": [],
            "needs_background": "light"
          }
        }
      ]
    },
    {
      "cell_type": "code",
      "metadata": {
        "id": "vrJyGyhQeO7u",
        "colab_type": "code",
        "colab": {
          "base_uri": "https://localhost:8080/",
          "height": 143
        },
        "outputId": "5f52070f-0ded-4b12-c293-cc24d4747e6a"
      },
      "source": [
        "boston_df[boston_df.INDUS > 27.5]"
      ],
      "execution_count": null,
      "outputs": [
        {
          "output_type": "execute_result",
          "data": {
            "text/html": [
              "<div>\n",
              "<style scoped>\n",
              "    .dataframe tbody tr th:only-of-type {\n",
              "        vertical-align: middle;\n",
              "    }\n",
              "\n",
              "    .dataframe tbody tr th {\n",
              "        vertical-align: top;\n",
              "    }\n",
              "\n",
              "    .dataframe thead th {\n",
              "        text-align: right;\n",
              "    }\n",
              "</style>\n",
              "<table border=\"1\" class=\"dataframe\">\n",
              "  <thead>\n",
              "    <tr style=\"text-align: right;\">\n",
              "      <th></th>\n",
              "      <th>CRIM</th>\n",
              "      <th>ZN</th>\n",
              "      <th>INDUS</th>\n",
              "      <th>CHAS</th>\n",
              "      <th>NOX</th>\n",
              "      <th>RM</th>\n",
              "      <th>AGE</th>\n",
              "      <th>DIS</th>\n",
              "      <th>RAD</th>\n",
              "      <th>TAX</th>\n",
              "      <th>PTRATIO</th>\n",
              "      <th>B</th>\n",
              "      <th>LSTAT</th>\n",
              "      <th>Price</th>\n",
              "    </tr>\n",
              "  </thead>\n",
              "  <tbody>\n",
              "    <tr>\n",
              "      <th>488</th>\n",
              "      <td>0.15086</td>\n",
              "      <td>0.0</td>\n",
              "      <td>27.74</td>\n",
              "      <td>0.0</td>\n",
              "      <td>0.609</td>\n",
              "      <td>5.454</td>\n",
              "      <td>92.7</td>\n",
              "      <td>1.8209</td>\n",
              "      <td>4.0</td>\n",
              "      <td>711.0</td>\n",
              "      <td>20.1</td>\n",
              "      <td>395.09</td>\n",
              "      <td>18.06</td>\n",
              "      <td>15.2</td>\n",
              "    </tr>\n",
              "    <tr>\n",
              "      <th>491</th>\n",
              "      <td>0.10574</td>\n",
              "      <td>0.0</td>\n",
              "      <td>27.74</td>\n",
              "      <td>0.0</td>\n",
              "      <td>0.609</td>\n",
              "      <td>5.983</td>\n",
              "      <td>98.8</td>\n",
              "      <td>1.8681</td>\n",
              "      <td>4.0</td>\n",
              "      <td>711.0</td>\n",
              "      <td>20.1</td>\n",
              "      <td>390.11</td>\n",
              "      <td>18.07</td>\n",
              "      <td>13.6</td>\n",
              "    </tr>\n",
              "    <tr>\n",
              "      <th>492</th>\n",
              "      <td>0.11132</td>\n",
              "      <td>0.0</td>\n",
              "      <td>27.74</td>\n",
              "      <td>0.0</td>\n",
              "      <td>0.609</td>\n",
              "      <td>5.983</td>\n",
              "      <td>83.5</td>\n",
              "      <td>2.1099</td>\n",
              "      <td>4.0</td>\n",
              "      <td>711.0</td>\n",
              "      <td>20.1</td>\n",
              "      <td>396.90</td>\n",
              "      <td>13.35</td>\n",
              "      <td>20.1</td>\n",
              "    </tr>\n",
              "  </tbody>\n",
              "</table>\n",
              "</div>"
            ],
            "text/plain": [
              "        CRIM   ZN  INDUS  CHAS    NOX  ...    TAX  PTRATIO       B  LSTAT  Price\n",
              "488  0.15086  0.0  27.74   0.0  0.609  ...  711.0     20.1  395.09  18.06   15.2\n",
              "491  0.10574  0.0  27.74   0.0  0.609  ...  711.0     20.1  390.11  18.07   13.6\n",
              "492  0.11132  0.0  27.74   0.0  0.609  ...  711.0     20.1  396.90  13.35   20.1\n",
              "\n",
              "[3 rows x 14 columns]"
            ]
          },
          "metadata": {
            "tags": []
          },
          "execution_count": 186
        }
      ]
    },
    {
      "cell_type": "code",
      "metadata": {
        "id": "GhqADhGgfoyH",
        "colab_type": "code",
        "colab": {}
      },
      "source": [
        "x = np.delete(x,489,0)\n",
        "y = np.delete(y,490,0)"
      ],
      "execution_count": null,
      "outputs": []
    },
    {
      "cell_type": "code",
      "metadata": {
        "id": "Mhu070Qafwt_",
        "colab_type": "code",
        "colab": {}
      },
      "source": [
        "boston_df.drop(index=[489,490],inplace=True)"
      ],
      "execution_count": null,
      "outputs": []
    },
    {
      "cell_type": "code",
      "metadata": {
        "id": "rqJDhIboT5HP",
        "colab_type": "code",
        "colab": {
          "base_uri": "https://localhost:8080/",
          "height": 488
        },
        "outputId": "d48f27c4-17af-4eff-d99f-d2d04cf2a7c4"
      },
      "source": [
        "boston_df.corr('pearson')"
      ],
      "execution_count": null,
      "outputs": [
        {
          "output_type": "execute_result",
          "data": {
            "text/html": [
              "<div>\n",
              "<style scoped>\n",
              "    .dataframe tbody tr th:only-of-type {\n",
              "        vertical-align: middle;\n",
              "    }\n",
              "\n",
              "    .dataframe tbody tr th {\n",
              "        vertical-align: top;\n",
              "    }\n",
              "\n",
              "    .dataframe thead th {\n",
              "        text-align: right;\n",
              "    }\n",
              "</style>\n",
              "<table border=\"1\" class=\"dataframe\">\n",
              "  <thead>\n",
              "    <tr style=\"text-align: right;\">\n",
              "      <th></th>\n",
              "      <th>CRIM</th>\n",
              "      <th>ZN</th>\n",
              "      <th>INDUS</th>\n",
              "      <th>CHAS</th>\n",
              "      <th>NOX</th>\n",
              "      <th>RM</th>\n",
              "      <th>AGE</th>\n",
              "      <th>DIS</th>\n",
              "      <th>RAD</th>\n",
              "      <th>TAX</th>\n",
              "      <th>PTRATIO</th>\n",
              "      <th>B</th>\n",
              "      <th>LSTAT</th>\n",
              "      <th>Price</th>\n",
              "    </tr>\n",
              "  </thead>\n",
              "  <tbody>\n",
              "    <tr>\n",
              "      <th>CRIM</th>\n",
              "      <td>1.000000</td>\n",
              "      <td>-0.262596</td>\n",
              "      <td>0.540757</td>\n",
              "      <td>-0.050717</td>\n",
              "      <td>0.553245</td>\n",
              "      <td>-0.288363</td>\n",
              "      <td>0.450738</td>\n",
              "      <td>-0.478970</td>\n",
              "      <td>0.808632</td>\n",
              "      <td>0.763220</td>\n",
              "      <td>0.364586</td>\n",
              "      <td>-0.426984</td>\n",
              "      <td>0.591331</td>\n",
              "      <td>-0.429925</td>\n",
              "    </tr>\n",
              "    <tr>\n",
              "      <th>ZN</th>\n",
              "      <td>-0.262596</td>\n",
              "      <td>1.000000</td>\n",
              "      <td>-0.533148</td>\n",
              "      <td>-0.045521</td>\n",
              "      <td>-0.513728</td>\n",
              "      <td>0.308843</td>\n",
              "      <td>-0.567091</td>\n",
              "      <td>0.663033</td>\n",
              "      <td>-0.307995</td>\n",
              "      <td>-0.307625</td>\n",
              "      <td>-0.387253</td>\n",
              "      <td>0.171357</td>\n",
              "      <td>-0.413623</td>\n",
              "      <td>0.355042</td>\n",
              "    </tr>\n",
              "    <tr>\n",
              "      <th>INDUS</th>\n",
              "      <td>0.540757</td>\n",
              "      <td>-0.533148</td>\n",
              "      <td>1.000000</td>\n",
              "      <td>0.071573</td>\n",
              "      <td>0.764819</td>\n",
              "      <td>-0.378693</td>\n",
              "      <td>0.638465</td>\n",
              "      <td>-0.703232</td>\n",
              "      <td>0.599724</td>\n",
              "      <td>0.710477</td>\n",
              "      <td>0.372508</td>\n",
              "      <td>-0.352308</td>\n",
              "      <td>0.594169</td>\n",
              "      <td>-0.463926</td>\n",
              "    </tr>\n",
              "    <tr>\n",
              "      <th>CHAS</th>\n",
              "      <td>-0.050717</td>\n",
              "      <td>-0.045521</td>\n",
              "      <td>0.071573</td>\n",
              "      <td>1.000000</td>\n",
              "      <td>0.097294</td>\n",
              "      <td>0.087802</td>\n",
              "      <td>0.092699</td>\n",
              "      <td>-0.106074</td>\n",
              "      <td>-0.000784</td>\n",
              "      <td>-0.027610</td>\n",
              "      <td>-0.117980</td>\n",
              "      <td>0.043486</td>\n",
              "      <td>-0.047339</td>\n",
              "      <td>0.171233</td>\n",
              "    </tr>\n",
              "    <tr>\n",
              "      <th>NOX</th>\n",
              "      <td>0.553245</td>\n",
              "      <td>-0.513728</td>\n",
              "      <td>0.764819</td>\n",
              "      <td>0.097294</td>\n",
              "      <td>1.000000</td>\n",
              "      <td>-0.293452</td>\n",
              "      <td>0.728348</td>\n",
              "      <td>-0.765612</td>\n",
              "      <td>0.604688</td>\n",
              "      <td>0.662319</td>\n",
              "      <td>0.176847</td>\n",
              "      <td>-0.379138</td>\n",
              "      <td>0.586458</td>\n",
              "      <td>-0.412063</td>\n",
              "    </tr>\n",
              "    <tr>\n",
              "      <th>RM</th>\n",
              "      <td>-0.288363</td>\n",
              "      <td>0.308843</td>\n",
              "      <td>-0.378693</td>\n",
              "      <td>0.087802</td>\n",
              "      <td>-0.293452</td>\n",
              "      <td>1.000000</td>\n",
              "      <td>-0.227097</td>\n",
              "      <td>0.192134</td>\n",
              "      <td>-0.201231</td>\n",
              "      <td>-0.274213</td>\n",
              "      <td>-0.349001</td>\n",
              "      <td>0.108630</td>\n",
              "      <td>-0.602721</td>\n",
              "      <td>0.693461</td>\n",
              "    </tr>\n",
              "    <tr>\n",
              "      <th>AGE</th>\n",
              "      <td>0.450738</td>\n",
              "      <td>-0.567091</td>\n",
              "      <td>0.638465</td>\n",
              "      <td>0.092699</td>\n",
              "      <td>0.728348</td>\n",
              "      <td>-0.227097</td>\n",
              "      <td>1.000000</td>\n",
              "      <td>-0.743273</td>\n",
              "      <td>0.448676</td>\n",
              "      <td>0.493459</td>\n",
              "      <td>0.250331</td>\n",
              "      <td>-0.264478</td>\n",
              "      <td>0.598477</td>\n",
              "      <td>-0.359697</td>\n",
              "    </tr>\n",
              "    <tr>\n",
              "      <th>DIS</th>\n",
              "      <td>-0.478970</td>\n",
              "      <td>0.663033</td>\n",
              "      <td>-0.703232</td>\n",
              "      <td>-0.106074</td>\n",
              "      <td>-0.765612</td>\n",
              "      <td>0.192134</td>\n",
              "      <td>-0.743273</td>\n",
              "      <td>1.000000</td>\n",
              "      <td>-0.485288</td>\n",
              "      <td>-0.520470</td>\n",
              "      <td>-0.219657</td>\n",
              "      <td>0.281517</td>\n",
              "      <td>-0.488173</td>\n",
              "      <td>0.226304</td>\n",
              "    </tr>\n",
              "    <tr>\n",
              "      <th>RAD</th>\n",
              "      <td>0.808632</td>\n",
              "      <td>-0.307995</td>\n",
              "      <td>0.599724</td>\n",
              "      <td>-0.000784</td>\n",
              "      <td>0.604688</td>\n",
              "      <td>-0.201231</td>\n",
              "      <td>0.448676</td>\n",
              "      <td>-0.485288</td>\n",
              "      <td>1.000000</td>\n",
              "      <td>0.918169</td>\n",
              "      <td>0.458603</td>\n",
              "      <td>-0.433173</td>\n",
              "      <td>0.484329</td>\n",
              "      <td>-0.362933</td>\n",
              "    </tr>\n",
              "    <tr>\n",
              "      <th>TAX</th>\n",
              "      <td>0.763220</td>\n",
              "      <td>-0.307625</td>\n",
              "      <td>0.710477</td>\n",
              "      <td>-0.027610</td>\n",
              "      <td>0.662319</td>\n",
              "      <td>-0.274213</td>\n",
              "      <td>0.493459</td>\n",
              "      <td>-0.520470</td>\n",
              "      <td>0.918169</td>\n",
              "      <td>1.000000</td>\n",
              "      <td>0.449825</td>\n",
              "      <td>-0.432083</td>\n",
              "      <td>0.526897</td>\n",
              "      <td>-0.441809</td>\n",
              "    </tr>\n",
              "    <tr>\n",
              "      <th>PTRATIO</th>\n",
              "      <td>0.364586</td>\n",
              "      <td>-0.387253</td>\n",
              "      <td>0.372508</td>\n",
              "      <td>-0.117980</td>\n",
              "      <td>0.176847</td>\n",
              "      <td>-0.349001</td>\n",
              "      <td>0.250331</td>\n",
              "      <td>-0.219657</td>\n",
              "      <td>0.458603</td>\n",
              "      <td>0.449825</td>\n",
              "      <td>1.000000</td>\n",
              "      <td>-0.164576</td>\n",
              "      <td>0.364956</td>\n",
              "      <td>-0.498740</td>\n",
              "    </tr>\n",
              "    <tr>\n",
              "      <th>B</th>\n",
              "      <td>-0.426984</td>\n",
              "      <td>0.171357</td>\n",
              "      <td>-0.352308</td>\n",
              "      <td>0.043486</td>\n",
              "      <td>-0.379138</td>\n",
              "      <td>0.108630</td>\n",
              "      <td>-0.264478</td>\n",
              "      <td>0.281517</td>\n",
              "      <td>-0.433173</td>\n",
              "      <td>-0.432083</td>\n",
              "      <td>-0.164576</td>\n",
              "      <td>1.000000</td>\n",
              "      <td>-0.370014</td>\n",
              "      <td>0.322190</td>\n",
              "    </tr>\n",
              "    <tr>\n",
              "      <th>LSTAT</th>\n",
              "      <td>0.591331</td>\n",
              "      <td>-0.413623</td>\n",
              "      <td>0.594169</td>\n",
              "      <td>-0.047339</td>\n",
              "      <td>0.586458</td>\n",
              "      <td>-0.602721</td>\n",
              "      <td>0.598477</td>\n",
              "      <td>-0.488173</td>\n",
              "      <td>0.484329</td>\n",
              "      <td>0.526897</td>\n",
              "      <td>0.364956</td>\n",
              "      <td>-0.370014</td>\n",
              "      <td>1.000000</td>\n",
              "      <td>-0.729237</td>\n",
              "    </tr>\n",
              "    <tr>\n",
              "      <th>Price</th>\n",
              "      <td>-0.429925</td>\n",
              "      <td>0.355042</td>\n",
              "      <td>-0.463926</td>\n",
              "      <td>0.171233</td>\n",
              "      <td>-0.412063</td>\n",
              "      <td>0.693461</td>\n",
              "      <td>-0.359697</td>\n",
              "      <td>0.226304</td>\n",
              "      <td>-0.362933</td>\n",
              "      <td>-0.441809</td>\n",
              "      <td>-0.498740</td>\n",
              "      <td>0.322190</td>\n",
              "      <td>-0.729237</td>\n",
              "      <td>1.000000</td>\n",
              "    </tr>\n",
              "  </tbody>\n",
              "</table>\n",
              "</div>"
            ],
            "text/plain": [
              "             CRIM        ZN     INDUS  ...         B     LSTAT     Price\n",
              "CRIM     1.000000 -0.262596  0.540757  ... -0.426984  0.591331 -0.429925\n",
              "ZN      -0.262596  1.000000 -0.533148  ...  0.171357 -0.413623  0.355042\n",
              "INDUS    0.540757 -0.533148  1.000000  ... -0.352308  0.594169 -0.463926\n",
              "CHAS    -0.050717 -0.045521  0.071573  ...  0.043486 -0.047339  0.171233\n",
              "NOX      0.553245 -0.513728  0.764819  ... -0.379138  0.586458 -0.412063\n",
              "RM      -0.288363  0.308843 -0.378693  ...  0.108630 -0.602721  0.693461\n",
              "AGE      0.450738 -0.567091  0.638465  ... -0.264478  0.598477 -0.359697\n",
              "DIS     -0.478970  0.663033 -0.703232  ...  0.281517 -0.488173  0.226304\n",
              "RAD      0.808632 -0.307995  0.599724  ... -0.433173  0.484329 -0.362933\n",
              "TAX      0.763220 -0.307625  0.710477  ... -0.432083  0.526897 -0.441809\n",
              "PTRATIO  0.364586 -0.387253  0.372508  ... -0.164576  0.364956 -0.498740\n",
              "B       -0.426984  0.171357 -0.352308  ...  1.000000 -0.370014  0.322190\n",
              "LSTAT    0.591331 -0.413623  0.594169  ... -0.370014  1.000000 -0.729237\n",
              "Price   -0.429925  0.355042 -0.463926  ...  0.322190 -0.729237  1.000000\n",
              "\n",
              "[14 rows x 14 columns]"
            ]
          },
          "metadata": {
            "tags": []
          },
          "execution_count": 172
        }
      ]
    },
    {
      "cell_type": "code",
      "metadata": {
        "id": "YorATQ27bWcv",
        "colab_type": "code",
        "colab": {
          "base_uri": "https://localhost:8080/",
          "height": 298
        },
        "outputId": "0845116f-4aa2-4438-918d-52c018302bc2"
      },
      "source": [
        "kendall = abs(boston_df.corr(method=\"kendall\").Price).to_dict()\n",
        "pearson = abs(boston_df.corr(method=\"pearson\").Price).to_dict()\n",
        "spearman = abs(boston_df.corr(method=\"spearman\").Price).to_dict()\n",
        "\n",
        "print(\"\\t\\tPearson\\t\\tKendall\\t\\tSpearman\")\n",
        "for p,k,s in zip(pearson.items(),kendall.items(),spearman.items()):\n",
        "    print(\"\\t{}\\t{:.2f}\\t\\t{:.2f}\\t\\t{:.2f}\".format(p[0],p[1],k[1],s[1]))"
      ],
      "execution_count": null,
      "outputs": [
        {
          "output_type": "stream",
          "text": [
            "\t\tPearson\t\tKendall\t\tSpearman\n",
            "\tCRIM\t0.43\t\t0.39\t\t0.54\n",
            "\tZN\t0.36\t\t0.33\t\t0.43\n",
            "\tINDUS\t0.46\t\t0.41\t\t0.57\n",
            "\tCHAS\t0.17\t\t0.11\t\t0.14\n",
            "\tNOX\t0.41\t\t0.39\t\t0.55\n",
            "\tRM\t0.69\t\t0.48\t\t0.63\n",
            "\tAGE\t0.36\t\t0.38\t\t0.53\n",
            "\tDIS\t0.23\t\t0.29\t\t0.42\n",
            "\tRAD\t0.36\t\t0.24\t\t0.33\n",
            "\tTAX\t0.44\t\t0.40\t\t0.54\n",
            "\tPTRATIO\t0.50\t\t0.39\t\t0.55\n",
            "\tB\t0.32\t\t0.11\t\t0.17\n",
            "\tLSTAT\t0.73\t\t0.67\t\t0.85\n",
            "\tPrice\t1.00\t\t1.00\t\t1.00\n"
          ],
          "name": "stdout"
        }
      ]
    },
    {
      "cell_type": "code",
      "metadata": {
        "id": "y4_Ycu31h4Yr",
        "colab_type": "code",
        "colab": {
          "base_uri": "https://localhost:8080/",
          "height": 204
        },
        "outputId": "cff8c897-46f0-40b3-d004-704c406516dd"
      },
      "source": [
        "kendall = abs(boston_df.corr(method=\"kendall\").Price).to_dict()\n",
        "pearson = abs(boston_df.corr(method=\"pearson\").Price).to_dict()\n",
        "spearman = abs(boston_df.corr(method=\"spearman\").Price).to_dict()\n",
        "\n",
        "print(\"\\t\\tPearson\\t\\tKendall\\t\\tSpearman\")\n",
        "for p,k,s in zip(pearson.items(),kendall.items(),spearman.items()):\n",
        "    if p[1] >.50 or s[1] > .50 or k[1] > .50:\n",
        "        print(\"\\t{}\\t{:.2f}\\t\\t{:.2f}\\t\\t{:.2f}\".format(p[0],p[1],k[1],s[1]))\n",
        "    "
      ],
      "execution_count": null,
      "outputs": [
        {
          "output_type": "stream",
          "text": [
            "\t\tPearson\t\tKendall\t\tSpearman\n",
            "\tCRIM\t0.43\t\t0.39\t\t0.54\n",
            "\tINDUS\t0.46\t\t0.41\t\t0.57\n",
            "\tNOX\t0.41\t\t0.39\t\t0.55\n",
            "\tRM\t0.69\t\t0.48\t\t0.63\n",
            "\tAGE\t0.36\t\t0.38\t\t0.53\n",
            "\tTAX\t0.44\t\t0.40\t\t0.54\n",
            "\tPTRATIO\t0.50\t\t0.39\t\t0.55\n",
            "\tLSTAT\t0.73\t\t0.67\t\t0.85\n",
            "\tPrice\t1.00\t\t1.00\t\t1.00\n"
          ],
          "name": "stdout"
        }
      ]
    },
    {
      "cell_type": "markdown",
      "metadata": {
        "id": "2sidvFqM7FT0",
        "colab_type": "text"
      },
      "source": [
        "As per the Pearson Correlation Coefficient third most effective feature is Pupil-Teacher Ratio but Kendall and Spearman Rank coefficeints clearly show that proportion of non-retail business acres per town has a higher correlation. (INDUS) "
      ]
    },
    {
      "cell_type": "markdown",
      "metadata": {
        "id": "WbsXcqxPUrIQ",
        "colab_type": "text"
      },
      "source": [
        "Let's explore top three features with highest correlation to the Price of a house in Boston."
      ]
    },
    {
      "cell_type": "code",
      "metadata": {
        "id": "3b_c1utpUq0M",
        "colab_type": "code",
        "colab": {
          "base_uri": "https://localhost:8080/",
          "height": 36
        },
        "outputId": "2351414e-2f6a-457b-c4e0-82bd3d043ba5"
      },
      "source": [
        "temp = abs(boston_df.corr('pearson').Price).to_dict()\n",
        "from collections import Counter\n",
        "var = Counter(temp)\n",
        "top_features = var.most_common(4)\n",
        "del top_features[0]\n",
        "print(top_features)"
      ],
      "execution_count": null,
      "outputs": [
        {
          "output_type": "stream",
          "text": [
            "[('LSTAT', 0.7292371273560633), ('RM', 0.6934607733385847), ('PTRATIO', 0.49874016237116064)]\n"
          ],
          "name": "stdout"
        }
      ]
    },
    {
      "cell_type": "markdown",
      "metadata": {
        "id": "yA1cg7AmZcOB",
        "colab_type": "text"
      },
      "source": [
        "### Top 3 factors that affect the price are :\n",
        "* Percentage of low status population\n",
        "* Numeber of Rooms in house\n",
        "* INDUS : Commercial businesses in town\n",
        "\n",
        "(As per Pearson correlation PT ratio is 3rd but Kendall and Spearman show that INDUS is 3rd most effective feature)"
      ]
    },
    {
      "cell_type": "code",
      "metadata": {
        "id": "PSID81TAZwuj",
        "colab_type": "code",
        "colab": {
          "base_uri": "https://localhost:8080/",
          "height": 486
        },
        "outputId": "175f4f8c-a83e-43e7-d4fa-540e00d00fb8"
      },
      "source": [
        "fig1,ax1 = plt.subplots()\n",
        "fig1.set_size_inches(12,7.5)\n",
        "ax1.set_ylabel('Price')\n",
        "ax1.set_xlabel('Low status Popolation %')\n",
        "ax1.set_title('Relationship Between Price and Low status Population')\n",
        "c = boston_df['Price']\n",
        "plt.scatter(boston_df.LSTAT, boston_df.Price, c=c, cmap = 'copper_r', alpha =0.6)  \n",
        "cbar = plt.colorbar()\n",
        "cbar.set_label('Price')"
      ],
      "execution_count": null,
      "outputs": [
        {
          "output_type": "display_data",
          "data": {
            "image/png": "[encoded data removed]",
            "text/plain": [
              "<Figure size 864x540 with 2 Axes>"
            ]
          },
          "metadata": {
            "tags": [],
            "needs_background": "light"
          }
        }
      ]
    },
    {
      "cell_type": "code",
      "metadata": {
        "id": "BAPx8ZuXC6YP",
        "colab_type": "code",
        "colab": {
          "base_uri": "https://localhost:8080/",
          "height": 284
        },
        "outputId": "678d09f0-6301-44bb-f39a-64dd9e3b425d"
      },
      "source": [
        "boston_df[\"LSTAT\"].to_frame().boxplot()"
      ],
      "execution_count": null,
      "outputs": [
        {
          "output_type": "execute_result",
          "data": {
            "text/plain": [
              "<matplotlib.axes._subplots.AxesSubplot at 0x7f3eff21fa20>"
            ]
          },
          "metadata": {
            "tags": []
          },
          "execution_count": 178
        },
        {
          "output_type": "display_data",
          "data": {
            "image/png": "[encoded data removed]",
            "text/plain": [
              "<Figure size 432x288 with 1 Axes>"
            ]
          },
          "metadata": {
            "tags": [],
            "needs_background": "light"
          }
        }
      ]
    },
    {
      "cell_type": "code",
      "metadata": {
        "id": "AdsIS_YuFylj",
        "colab_type": "code",
        "colab": {}
      },
      "source": [
        "boston_df[boston_df.LSTAT > 4]"
      ],
      "execution_count": null,
      "outputs": []
    },
    {
      "cell_type": "code",
      "metadata": {
        "id": "UizqYQ30b120",
        "colab_type": "code",
        "colab": {
          "base_uri": "https://localhost:8080/",
          "height": 486
        },
        "outputId": "0a5aead6-9aa2-4da3-f613-a4eda9f7b0a6"
      },
      "source": [
        "fig1,ax1 = plt.subplots()\n",
        "fig1.set_size_inches(12,7.5)\n",
        "ax1.set_ylabel('Price')\n",
        "ax1.set_xlabel('Number of Rooms')\n",
        "ax1.set_title('Relationship Between Price and Number of Rooms')\n",
        "c = boston_df['Price']\n",
        "plt.scatter(boston_df.RM, boston_df.Price,c=c, \n",
        "            cmap = 'autumn_r', alpha =0.5)  \n",
        "cbar = plt.colorbar()\n",
        "cbar.set_label('Price')"
      ],
      "execution_count": null,
      "outputs": [
        {
          "output_type": "display_data",
          "data": {
            "image/png": "[encoded data removed]",
            "text/plain": [
              "<Figure size 864x540 with 2 Axes>"
            ]
          },
          "metadata": {
            "tags": [],
            "needs_background": "light"
          }
        }
      ]
    },
    {
      "cell_type": "markdown",
      "metadata": {
        "id": "zhdO-XyQcZeX",
        "colab_type": "text"
      },
      "source": [
        "We can see a lot of outliers in this distribution which will affect our model"
      ]
    },
    {
      "cell_type": "code",
      "metadata": {
        "id": "MyZjSO66ciOP",
        "colab_type": "code",
        "colab": {
          "base_uri": "https://localhost:8080/",
          "height": 486
        },
        "outputId": "21e36a1e-d079-4f7b-8b95-66243495ca72"
      },
      "source": [
        "fig1,ax1 = plt.subplots()\n",
        "fig1.set_size_inches(12,7.5)\n",
        "ax1.set_ylabel('Price')\n",
        "ax1.set_xlabel('Commercial Businesses')\n",
        "ax1.set_title('Relationship Between Price and Industires in the town')\n",
        "c = boston_df['Price']\n",
        "plt.scatter(boston_df.INDUS, boston_df.Price,c=c, \n",
        "            cmap = 'copper_r', alpha =0.5)  \n",
        "cbar = plt.colorbar()\n",
        "cbar.set_label('Price')"
      ],
      "execution_count": null,
      "outputs": [
        {
          "output_type": "display_data",
          "data": {
            "image/png": "[encoded data removed]",
            "text/plain": [
              "<Figure size 864x540 with 2 Axes>"
            ]
          },
          "metadata": {
            "tags": [],
            "needs_background": "light"
          }
        }
      ]
    },
    {
      "cell_type": "code",
      "metadata": {
        "id": "hOZZfRSGNnUp",
        "colab_type": "code",
        "colab": {
          "base_uri": "https://localhost:8080/",
          "height": 73
        },
        "outputId": "ff4ee5df-c8de-4c11-db76-b1a9c440643b"
      },
      "source": [
        "#Train and Test set split into 80% and 20% respectively\n",
        "x_train, x_rest, y_train, y_rest = train_test_split(x,y,test_size = .4,random_state =0)\n",
        "\n",
        "#Rest of the 40% set split into equal parts of Train and Validation set \n",
        "x_test, x_val, y_test, y_val = train_test_split(x_train,y_train,test_size = .5,random_state = 0)\n",
        "\n",
        "#Therefore : Train = 60%, Test = 20% and Validation = 20%\n",
        "print(len(x_train),len(y_train))\n",
        "print(len(x_val),len(y_val))\n",
        "print(len(x_test),len(y_test))"
      ],
      "execution_count": null,
      "outputs": [
        {
          "output_type": "stream",
          "text": [
            "298 298\n",
            "149 149\n",
            "149 149\n"
          ],
          "name": "stdout"
        }
      ]
    },
    {
      "cell_type": "code",
      "metadata": {
        "id": "n2Q5LDLnNp9x",
        "colab_type": "code",
        "colab": {}
      },
      "source": [
        "#preprocessing is necessary for SDG Regressor\n",
        "\n",
        "scaler = preprocessing.StandardScaler().fit(x_train)\n",
        "x_train = scaler.transform(x_train)\n",
        "x_test = scaler.transform(x_test)\n",
        "x_val = scaler.transform(x_val)\n",
        "\n",
        "y_train = y_train.reshape(-1)\n",
        "y_test = y_test.reshape(-1)\n",
        "y_val = y_val.reshape(-1)"
      ],
      "execution_count": null,
      "outputs": []
    },
    {
      "cell_type": "code",
      "metadata": {
        "id": "K8a-kFVBNsRD",
        "colab_type": "code",
        "colab": {}
      },
      "source": [
        "clf_sdg = SGDRegressor(max_iter= 5000,eta0=0.0001,learning_rate='constant')\n",
        "#learning rate is default = 0.01 as constant = eta0\n",
        "\n",
        "clf_sdg.fit(x_train,y_train)\n",
        "\n",
        "y_hat_test = clf_sdg.predict(x_test)\n",
        "y_hat_val = clf_sdg.predict(x_val)\n",
        "y_hat_train = clf_sdg.predict(x_train)\n",
        "\n",
        "test_score = clf_sdg.score(x_test,y_test)\n",
        "train_score = clf_sdg.score(x_train,y_train)\n",
        "val_score = clf_sdg.score(x_val,y_val)"
      ],
      "execution_count": null,
      "outputs": []
    },
    {
      "cell_type": "code",
      "metadata": {
        "id": "ryz5Q7YmNxH3",
        "colab_type": "code",
        "colab": {
          "base_uri": "https://localhost:8080/",
          "height": 260
        },
        "outputId": "2e9fb66d-8aa9-4600-a108-8c466fe63a79"
      },
      "source": [
        "print(\"R2-score Train: \\t\\t%.2f\" % r2_score(y_hat_train , y_train) )\n",
        "print(\"R2-score Test: \\t\\t\\t%.2f\" % r2_score(y_hat_test , y_test) )\n",
        "print(\"R2-score Validation: \\t\\t%.2f\" % r2_score(y_hat_val , y_val) )\n",
        "print(\"------------------------------------\")\n",
        "print(\"Train score : \\t\\t\\t%.2f\"%train_score)\n",
        "print(\"Test score : \\t\\t\\t%.2f\"%test_score)\n",
        "print(\"Validation Score : \\t\\t%.2f\"%val_score)\n",
        "\n",
        "print(\"RMSE test : %3f\"%math.sqrt(mean_squared_error(y_test,y_hat_test)))\n",
        "print(\"RMSE train : %3f\"%math.sqrt(mean_squared_error(y_train,y_hat_train)))\n",
        "print(\"RMSE val : %3f\"%math.sqrt(mean_squared_error(y_val,y_hat_val)))\n",
        "print(\"MAE test : %3f\"%(mean_absolute_error(y_test,y_hat_test)))\n",
        "print(\"MAE train : %3f\"%(mean_absolute_error(y_train,y_hat_train)))\n",
        "print(\"MAE val : %3f\"%(mean_absolute_error(y_val,y_hat_val)))"
      ],
      "execution_count": null,
      "outputs": [
        {
          "output_type": "stream",
          "text": [
            "R2-score Train: \t\t0.70\n",
            "R2-score Test: \t\t\t0.77\n",
            "R2-score Validation: \t\t0.62\n",
            "------------------------------------\n",
            "Train score : \t\t\t0.77\n",
            "Test score : \t\t\t0.82\n",
            "Validation Score : \t\t0.73\n",
            "RMSE test : 4.129694\n",
            "RMSE train : 4.638970\n",
            "RMSE val : 5.097619\n",
            "MAE test : 3.010106\n",
            "MAE train : 3.172894\n",
            "MAE val : 3.335682\n"
          ],
          "name": "stdout"
        }
      ]
    }
  ]
}