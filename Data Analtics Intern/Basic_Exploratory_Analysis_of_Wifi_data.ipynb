{
  "nbformat": 4,
  "nbformat_minor": 0,
  "metadata": {
    "colab": {
      "name": "Basic Exploratory Analysis of Wifi data.ipynb",
      "provenance": [],
      "authorship_tag": "ABX9TyMwlMLXlOPayLYV8iY33NR9",
      "include_colab_link": true
    },
    "kernelspec": {
      "name": "python3",
      "display_name": "Python 3"
    }
  },
  "cells": [
    {
      "cell_type": "markdown",
      "metadata": {
        "id": "view-in-github",
        "colab_type": "text"
      },
      "source": [
        "<a href=\"https://colab.research.google.com/github/JARACH-209/DataAnalytics/blob/master/Basic_Exploratory_Analysis_of_Wifi_data.ipynb\" target=\"_parent\"><img src=\"https://colab.research.google.com/assets/colab-badge.svg\" alt=\"Open In Colab\"/></a>"
      ]
    },
    {
      "cell_type": "code",
      "metadata": {
        "id": "hEy4IWLOqrlm",
        "colab_type": "code",
        "colab": {}
      },
      "source": [
        "!pip install ijson"
      ],
      "execution_count": 0,
      "outputs": []
    },
    {
      "cell_type": "code",
      "metadata": {
        "id": "FDbclIqZon_b",
        "colab_type": "code",
        "colab": {
          "base_uri": "https://localhost:8080/",
          "height": 35
        },
        "outputId": "9f71d205-8fd0-4ccb-cc13-90dacdd453a8"
      },
      "source": [
        "#Office experiment -> processed data of sensors -> wifi -> sensor 1 -> Sensor2.json and Summary\n",
        "\n",
        "import ijson                    #using ijson because the dataset is very large hence accessing the data in memory efficient way\n",
        "import pandas as pd\n",
        "\n",
        "summary_file = \"/content/Data Wifi/Summary.json\"\n",
        "sensor2_file = \"/content/Data Wifi/Sensor-02.json\"\n",
        "\n",
        "df_summary = pd.read_json(summary_file)         #dataframe of Summary.json\n",
        "df_sensor2 = pd.read_json(sensor2_file)         #dataframe of sensor2.json\n",
        "\n",
        "df_summary.shape\n",
        "df_sensor2.shape\n"
      ],
      "execution_count": 51,
      "outputs": [
        {
          "output_type": "execute_result",
          "data": {
            "text/plain": [
              "(63369, 2)"
            ]
          },
          "metadata": {
            "tags": []
          },
          "execution_count": 51
        }
      ]
    },
    {
      "cell_type": "code",
      "metadata": {
        "id": "QUAhGBLGB4cR",
        "colab_type": "code",
        "colab": {
          "base_uri": "https://localhost:8080/",
          "height": 363
        },
        "outputId": "942621a1-a53e-4b5b-96fc-7e73e6714def"
      },
      "source": [
        "df_summary.head(10)     #checking the top 10 values of summary"
      ],
      "execution_count": 52,
      "outputs": [
        {
          "output_type": "execute_result",
          "data": {
            "text/html": [
              "<div>\n",
              "<style scoped>\n",
              "    .dataframe tbody tr th:only-of-type {\n",
              "        vertical-align: middle;\n",
              "    }\n",
              "\n",
              "    .dataframe tbody tr th {\n",
              "        vertical-align: top;\n",
              "    }\n",
              "\n",
              "    .dataframe thead th {\n",
              "        text-align: right;\n",
              "    }\n",
              "</style>\n",
              "<table border=\"1\" class=\"dataframe\">\n",
              "  <thead>\n",
              "    <tr style=\"text-align: right;\">\n",
              "      <th></th>\n",
              "      <th>metadata</th>\n",
              "      <th>results</th>\n",
              "    </tr>\n",
              "  </thead>\n",
              "  <tbody>\n",
              "    <tr>\n",
              "      <th>feature</th>\n",
              "      <td>ble_wifi_truong</td>\n",
              "      <td>NaN</td>\n",
              "    </tr>\n",
              "    <tr>\n",
              "      <th>sensor</th>\n",
              "      <td>01</td>\n",
              "      <td>NaN</td>\n",
              "    </tr>\n",
              "    <tr>\n",
              "      <th>time_interval</th>\n",
              "      <td>10sec</td>\n",
              "      <td>NaN</td>\n",
              "    </tr>\n",
              "    <tr>\n",
              "      <th>value</th>\n",
              "      <td>euclidean, jaccard, mean_exp, mean_hamming, su...</td>\n",
              "      <td>NaN</td>\n",
              "    </tr>\n",
              "    <tr>\n",
              "      <th>co_located</th>\n",
              "      <td>NaN</td>\n",
              "      <td>{'_sensors': ['02', '03', '04', '05', '06', '0...</td>\n",
              "    </tr>\n",
              "    <tr>\n",
              "      <th>non_colocated</th>\n",
              "      <td>NaN</td>\n",
              "      <td>{'_sensors': ['09', '10', '11', '12', '13', '1...</td>\n",
              "    </tr>\n",
              "    <tr>\n",
              "      <th>sensor-02</th>\n",
              "      <td>NaN</td>\n",
              "      <td>{'euclidean': {'max': 141.29048092493704, 'mea...</td>\n",
              "    </tr>\n",
              "    <tr>\n",
              "      <th>sensor-03</th>\n",
              "      <td>NaN</td>\n",
              "      <td>{'euclidean': {'max': 130.06152390311286, 'mea...</td>\n",
              "    </tr>\n",
              "    <tr>\n",
              "      <th>sensor-04</th>\n",
              "      <td>NaN</td>\n",
              "      <td>{'euclidean': {'max': 133.43912469736904, 'mea...</td>\n",
              "    </tr>\n",
              "    <tr>\n",
              "      <th>sensor-05</th>\n",
              "      <td>NaN</td>\n",
              "      <td>{'euclidean': {'max': 136.1396341995967, 'mean...</td>\n",
              "    </tr>\n",
              "  </tbody>\n",
              "</table>\n",
              "</div>"
            ],
            "text/plain": [
              "                                                        metadata                                            results\n",
              "feature                                          ble_wifi_truong                                                NaN\n",
              "sensor                                                        01                                                NaN\n",
              "time_interval                                              10sec                                                NaN\n",
              "value          euclidean, jaccard, mean_exp, mean_hamming, su...                                                NaN\n",
              "co_located                                                   NaN  {'_sensors': ['02', '03', '04', '05', '06', '0...\n",
              "non_colocated                                                NaN  {'_sensors': ['09', '10', '11', '12', '13', '1...\n",
              "sensor-02                                                    NaN  {'euclidean': {'max': 141.29048092493704, 'mea...\n",
              "sensor-03                                                    NaN  {'euclidean': {'max': 130.06152390311286, 'mea...\n",
              "sensor-04                                                    NaN  {'euclidean': {'max': 133.43912469736904, 'mea...\n",
              "sensor-05                                                    NaN  {'euclidean': {'max': 136.1396341995967, 'mean..."
            ]
          },
          "metadata": {
            "tags": []
          },
          "execution_count": 52
        }
      ]
    },
    {
      "cell_type": "code",
      "metadata": {
        "id": "Ly5xNrxVEeO8",
        "colab_type": "code",
        "colab": {
          "base_uri": "https://localhost:8080/",
          "height": 553
        },
        "outputId": "97c19487-e167-4aeb-f199-8b06af7bb51d"
      },
      "source": [
        "summary_indexes = []                #summary indexes : row headings \n",
        "for col in df_summary.index:\n",
        "    summary_indexes.append(col)\n",
        "    print(col)"
      ],
      "execution_count": 53,
      "outputs": [
        {
          "output_type": "stream",
          "text": [
            "feature\n",
            "sensor\n",
            "time_interval\n",
            "value\n",
            "co_located\n",
            "non_colocated\n",
            "sensor-02\n",
            "sensor-03\n",
            "sensor-04\n",
            "sensor-05\n",
            "sensor-06\n",
            "sensor-07\n",
            "sensor-08\n",
            "sensor-09\n",
            "sensor-10\n",
            "sensor-11\n",
            "sensor-12\n",
            "sensor-13\n",
            "sensor-14\n",
            "sensor-15\n",
            "sensor-16\n",
            "sensor-17\n",
            "sensor-18\n",
            "sensor-19\n",
            "sensor-20\n",
            "sensor-21\n",
            "sensor-22\n",
            "sensor-23\n",
            "sensor-24\n"
          ],
          "name": "stdout"
        }
      ]
    },
    {
      "cell_type": "code",
      "metadata": {
        "id": "V3NitVvKF28d",
        "colab_type": "code",
        "colab": {
          "base_uri": "https://localhost:8080/",
          "height": 74
        },
        "outputId": "5b0a5c74-73cf-4afe-e6d2-599f2f4b9c3e"
      },
      "source": [
        "print(summary_indexes)              #row headings \n",
        "print(df_summary.columns)           #columns headigns"
      ],
      "execution_count": 54,
      "outputs": [
        {
          "output_type": "stream",
          "text": [
            "['feature', 'sensor', 'time_interval', 'value', 'co_located', 'non_colocated', 'sensor-02', 'sensor-03', 'sensor-04', 'sensor-05', 'sensor-06', 'sensor-07', 'sensor-08', 'sensor-09', 'sensor-10', 'sensor-11', 'sensor-12', 'sensor-13', 'sensor-14', 'sensor-15', 'sensor-16', 'sensor-17', 'sensor-18', 'sensor-19', 'sensor-20', 'sensor-21', 'sensor-22', 'sensor-23', 'sensor-24']\n",
            "Index(['metadata', 'results'], dtype='object')\n"
          ],
          "name": "stdout"
        }
      ]
    },
    {
      "cell_type": "code",
      "metadata": {
        "id": "FEjsKlp6KGkk",
        "colab_type": "code",
        "colab": {
          "base_uri": "https://localhost:8080/",
          "height": 35
        },
        "outputId": "ea5b44af-5d5f-4cfe-bc57-6945d51dd94e"
      },
      "source": [
        "summary_value = df_summary.loc[\"value\",\"metadata\"]  #locating the value index and finding the value prameters in summary\n",
        "print(summary_value)"
      ],
      "execution_count": 50,
      "outputs": [
        {
          "output_type": "stream",
          "text": [
            "euclidean, jaccard, mean_exp, mean_hamming, sum_squared_ranks\n"
          ],
          "name": "stdout"
        }
      ]
    },
    {
      "cell_type": "code",
      "metadata": {
        "id": "vWet04SzCRQm",
        "colab_type": "code",
        "colab": {
          "base_uri": "https://localhost:8080/",
          "height": 363
        },
        "outputId": "4da74f35-2adb-4f5d-b5c0-2ac4ebc103d6"
      },
      "source": [
        "df_sensor2.head(10) "
      ],
      "execution_count": 55,
      "outputs": [
        {
          "output_type": "execute_result",
          "data": {
            "text/html": [
              "<div>\n",
              "<style scoped>\n",
              "    .dataframe tbody tr th:only-of-type {\n",
              "        vertical-align: middle;\n",
              "    }\n",
              "\n",
              "    .dataframe tbody tr th {\n",
              "        vertical-align: top;\n",
              "    }\n",
              "\n",
              "    .dataframe thead th {\n",
              "        text-align: right;\n",
              "    }\n",
              "</style>\n",
              "<table border=\"1\" class=\"dataframe\">\n",
              "  <thead>\n",
              "    <tr style=\"text-align: right;\">\n",
              "      <th></th>\n",
              "      <th>metadata</th>\n",
              "      <th>results</th>\n",
              "    </tr>\n",
              "  </thead>\n",
              "  <tbody>\n",
              "    <tr>\n",
              "      <th>created_on</th>\n",
              "      <td>2018-04-05 09:06:07</td>\n",
              "      <td>NaN</td>\n",
              "    </tr>\n",
              "    <tr>\n",
              "      <th>generator_script</th>\n",
              "      <td>ble_wifi_truong</td>\n",
              "      <td>NaN</td>\n",
              "    </tr>\n",
              "    <tr>\n",
              "      <th>generator_version</th>\n",
              "      <td>git+2b4bf52cab25f577679eeaeffe503df1d5fb98c9</td>\n",
              "      <td>NaN</td>\n",
              "    </tr>\n",
              "    <tr>\n",
              "      <th>parameters</th>\n",
              "      <td>{'chunk_len': 10}</td>\n",
              "      <td>NaN</td>\n",
              "    </tr>\n",
              "    <tr>\n",
              "      <th>processing_end</th>\n",
              "      <td>2018-04-05 09:08:07.745228</td>\n",
              "      <td>NaN</td>\n",
              "    </tr>\n",
              "    <tr>\n",
              "      <th>processing_start</th>\n",
              "      <td>2018-04-05 09:06:07.393825</td>\n",
              "      <td>NaN</td>\n",
              "    </tr>\n",
              "    <tr>\n",
              "      <th>source_files</th>\n",
              "      <td>{'Sensor-01/wifi/wifi.txt.blinded': '8799c43f9...</td>\n",
              "      <td>NaN</td>\n",
              "    </tr>\n",
              "    <tr>\n",
              "      <th>system</th>\n",
              "      <td>CPython3.6.3 (default, Oct  3 2017, 21:45:48) ...</td>\n",
              "      <td>NaN</td>\n",
              "    </tr>\n",
              "    <tr>\n",
              "      <th>2017-11-27 16:00:30</th>\n",
              "      <td>NaN</td>\n",
              "      <td>{'euclidean': 47.45524207081869, 'jaccard': 0....</td>\n",
              "    </tr>\n",
              "    <tr>\n",
              "      <th>2017-11-27 16:00:40</th>\n",
              "      <td>NaN</td>\n",
              "      <td>{'euclidean': 33.704599092705436, 'jaccard': 0...</td>\n",
              "    </tr>\n",
              "  </tbody>\n",
              "</table>\n",
              "</div>"
            ],
            "text/plain": [
              "                                                              metadata                                            results\n",
              "created_on                                         2018-04-05 09:06:07                                                NaN\n",
              "generator_script                                       ble_wifi_truong                                                NaN\n",
              "generator_version         git+2b4bf52cab25f577679eeaeffe503df1d5fb98c9                                                NaN\n",
              "parameters                                           {'chunk_len': 10}                                                NaN\n",
              "processing_end                              2018-04-05 09:08:07.745228                                                NaN\n",
              "processing_start                            2018-04-05 09:06:07.393825                                                NaN\n",
              "source_files         {'Sensor-01/wifi/wifi.txt.blinded': '8799c43f9...                                                NaN\n",
              "system               CPython3.6.3 (default, Oct  3 2017, 21:45:48) ...                                                NaN\n",
              "2017-11-27 16:00:30                                                NaN  {'euclidean': 47.45524207081869, 'jaccard': 0....\n",
              "2017-11-27 16:00:40                                                NaN  {'euclidean': 33.704599092705436, 'jaccard': 0..."
            ]
          },
          "metadata": {
            "tags": []
          },
          "execution_count": 55
        }
      ]
    },
    {
      "cell_type": "code",
      "metadata": {
        "id": "4wOxV8dVSMRw",
        "colab_type": "code",
        "colab": {
          "base_uri": "https://localhost:8080/",
          "height": 55
        },
        "outputId": "32137b98-9034-43b6-cc5b-c1de57854e43"
      },
      "source": [
        "sensor2_indexes = []                #sensor2.json indexes : row headings \n",
        "for col in df_sensor2.index:\n",
        "    sensor2_indexes.append(col)\n",
        "print(sensor2_indexes[0:10])"
      ],
      "execution_count": 58,
      "outputs": [
        {
          "output_type": "stream",
          "text": [
            "['created_on', 'generator_script', 'generator_version', 'parameters', 'processing_end', 'processing_start', 'source_files', 'system', '2017-11-27 16:00:30', '2017-11-27 16:00:40']\n"
          ],
          "name": "stdout"
        }
      ]
    },
    {
      "cell_type": "code",
      "metadata": {
        "id": "TM9eO9DtSaA5",
        "colab_type": "code",
        "colab": {
          "base_uri": "https://localhost:8080/",
          "height": 206
        },
        "outputId": "9531e859-3ff8-4db4-9674-dd38786b44d6"
      },
      "source": [
        "df_sensor2.dropna(inplace=True)\n",
        "df.head()"
      ],
      "execution_count": 60,
      "outputs": [
        {
          "output_type": "execute_result",
          "data": {
            "text/html": [
              "<div>\n",
              "<style scoped>\n",
              "    .dataframe tbody tr th:only-of-type {\n",
              "        vertical-align: middle;\n",
              "    }\n",
              "\n",
              "    .dataframe tbody tr th {\n",
              "        vertical-align: top;\n",
              "    }\n",
              "\n",
              "    .dataframe thead th {\n",
              "        text-align: right;\n",
              "    }\n",
              "</style>\n",
              "<table border=\"1\" class=\"dataframe\">\n",
              "  <thead>\n",
              "    <tr style=\"text-align: right;\">\n",
              "      <th></th>\n",
              "      <th>metadata</th>\n",
              "      <th>results</th>\n",
              "    </tr>\n",
              "  </thead>\n",
              "  <tbody>\n",
              "    <tr>\n",
              "      <th>feature</th>\n",
              "      <td>ble_wifi_truong</td>\n",
              "      <td>NaN</td>\n",
              "    </tr>\n",
              "    <tr>\n",
              "      <th>sensor</th>\n",
              "      <td>01</td>\n",
              "      <td>NaN</td>\n",
              "    </tr>\n",
              "    <tr>\n",
              "      <th>time_interval</th>\n",
              "      <td>10sec</td>\n",
              "      <td>NaN</td>\n",
              "    </tr>\n",
              "    <tr>\n",
              "      <th>value</th>\n",
              "      <td>euclidean, jaccard, mean_exp, mean_hamming, su...</td>\n",
              "      <td>NaN</td>\n",
              "    </tr>\n",
              "    <tr>\n",
              "      <th>co_located</th>\n",
              "      <td>NaN</td>\n",
              "      <td>{'_sensors': ['02', '03', '04', '05', '06', '0...</td>\n",
              "    </tr>\n",
              "  </tbody>\n",
              "</table>\n",
              "</div>"
            ],
            "text/plain": [
              "                                                        metadata                                            results\n",
              "feature                                          ble_wifi_truong                                                NaN\n",
              "sensor                                                        01                                                NaN\n",
              "time_interval                                              10sec                                                NaN\n",
              "value          euclidean, jaccard, mean_exp, mean_hamming, su...                                                NaN\n",
              "co_located                                                   NaN  {'_sensors': ['02', '03', '04', '05', '06', '0..."
            ]
          },
          "metadata": {
            "tags": []
          },
          "execution_count": 60
        }
      ]
    },
    {
      "cell_type": "code",
      "metadata": {
        "id": "7MF4GldHBe8j",
        "colab_type": "code",
        "colab": {}
      },
      "source": [
        "df_summary.info()   #information of the dataframe/summary json file\n",
        "df_sensor2.info()   #infromation of the sensor data file"
      ],
      "execution_count": 0,
      "outputs": []
    },
    {
      "cell_type": "code",
      "metadata": {
        "id": "6o0IuSqUB8HZ",
        "colab_type": "code",
        "colab": {}
      },
      "source": [
        "df_summary.describe()\n",
        "df_sensor2.describe()"
      ],
      "execution_count": 0,
      "outputs": []
    }
  ]
}