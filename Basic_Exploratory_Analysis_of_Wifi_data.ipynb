{
  "nbformat": 4,
  "nbformat_minor": 0,
  "metadata": {
    "colab": {
      "name": "Basic Exploratory Analysis of Wifi data.ipynb",
      "provenance": [],
      "authorship_tag": "ABX9TyOsjILoKsesWvuoO9SCinWp",
      "include_colab_link": true
    },
    "kernelspec": {
      "name": "python3",
      "display_name": "Python 3"
    }
  },
  "cells": [
    {
      "cell_type": "markdown",
      "metadata": {
        "id": "view-in-github",
        "colab_type": "text"
      },
      "source": [
        "<a href=\"https://colab.research.google.com/github/JARACH-209/DataAnalytics/blob/master/Basic_Exploratory_Analysis_of_Wifi_data.ipynb\" target=\"_parent\"><img src=\"https://colab.research.google.com/assets/colab-badge.svg\" alt=\"Open In Colab\"/></a>"
      ]
    },
    {
      "cell_type": "code",
      "metadata": {
        "id": "hEy4IWLOqrlm",
        "colab_type": "code",
        "colab": {
          "base_uri": "https://localhost:8080/",
          "height": 129
        },
        "outputId": "ce58f6dc-fddf-445a-c419-0ce42938016d"
      },
      "source": [
        "!pip install ijson"
      ],
      "execution_count": 5,
      "outputs": [
        {
          "output_type": "stream",
          "text": [
            "Collecting ijson\n",
            "\u001b[?25l  Downloading https://files.pythonhosted.org/packages/11/82/03c325c85196744658c6d095c1e90dbd408595c596fc136b2157b2edaa10/ijson-3.0.4-cp36-cp36m-manylinux1_x86_64.whl (98kB)\n",
            "\r\u001b[K     |███▎                            | 10kB 18.5MB/s eta 0:00:01\r\u001b[K     |██████▋                         | 20kB 1.5MB/s eta 0:00:01\r\u001b[K     |██████████                      | 30kB 2.1MB/s eta 0:00:01\r\u001b[K     |█████████████▎                  | 40kB 1.6MB/s eta 0:00:01\r\u001b[K     |████████████████▋               | 51kB 1.9MB/s eta 0:00:01\r\u001b[K     |████████████████████            | 61kB 2.2MB/s eta 0:00:01\r\u001b[K     |███████████████████████▎        | 71kB 2.3MB/s eta 0:00:01\r\u001b[K     |██████████████████████████▌     | 81kB 2.6MB/s eta 0:00:01\r\u001b[K     |█████████████████████████████▉  | 92kB 2.8MB/s eta 0:00:01\r\u001b[K     |████████████████████████████████| 102kB 2.3MB/s \n",
            "\u001b[?25hInstalling collected packages: ijson\n",
            "Successfully installed ijson-3.0.4\n"
          ],
          "name": "stdout"
        }
      ]
    },
    {
      "cell_type": "code",
      "metadata": {
        "id": "FDbclIqZon_b",
        "colab_type": "code",
        "colab": {}
      },
      "source": [
        "import ijson                    #using ijson because the dataset is very large hence accessing the data in memory efficient way\n",
        "import pandas as pd\n",
        "\n",
        "summary_file = \"/content/Data Wifi/Summary.json\"\n",
        "sensor2_file = \"/content/Data Wifi/Sensor-02.json\"\n",
        "\n",
        "df_summary = pd.read_json(summary_file)\n",
        "df_sensor2 = pd.read_json(sensor2_file)\n",
        "\n",
        "df_summary.shape\n",
        "df_sensor2.shape\n"
      ],
      "execution_count": 0,
      "outputs": []
    },
    {
      "cell_type": "code",
      "metadata": {
        "id": "QUAhGBLGB4cR",
        "colab_type": "code",
        "colab": {
          "base_uri": "https://localhost:8080/",
          "height": 363
        },
        "outputId": "171eb310-6a30-4ce2-f33c-d91c1d002e0d"
      },
      "source": [
        "df_summary.head(10)     #checking the top 10 values of summary"
      ],
      "execution_count": 43,
      "outputs": [
        {
          "output_type": "execute_result",
          "data": {
            "text/html": [
              "<div>\n",
              "<style scoped>\n",
              "    .dataframe tbody tr th:only-of-type {\n",
              "        vertical-align: middle;\n",
              "    }\n",
              "\n",
              "    .dataframe tbody tr th {\n",
              "        vertical-align: top;\n",
              "    }\n",
              "\n",
              "    .dataframe thead th {\n",
              "        text-align: right;\n",
              "    }\n",
              "</style>\n",
              "<table border=\"1\" class=\"dataframe\">\n",
              "  <thead>\n",
              "    <tr style=\"text-align: right;\">\n",
              "      <th></th>\n",
              "      <th>metadata</th>\n",
              "      <th>results</th>\n",
              "    </tr>\n",
              "  </thead>\n",
              "  <tbody>\n",
              "    <tr>\n",
              "      <th>feature</th>\n",
              "      <td>ble_wifi_truong</td>\n",
              "      <td>NaN</td>\n",
              "    </tr>\n",
              "    <tr>\n",
              "      <th>sensor</th>\n",
              "      <td>01</td>\n",
              "      <td>NaN</td>\n",
              "    </tr>\n",
              "    <tr>\n",
              "      <th>time_interval</th>\n",
              "      <td>10sec</td>\n",
              "      <td>NaN</td>\n",
              "    </tr>\n",
              "    <tr>\n",
              "      <th>value</th>\n",
              "      <td>euclidean, jaccard, mean_exp, mean_hamming, su...</td>\n",
              "      <td>NaN</td>\n",
              "    </tr>\n",
              "    <tr>\n",
              "      <th>co_located</th>\n",
              "      <td>NaN</td>\n",
              "      <td>{'_sensors': ['02', '03', '04', '05', '06', '0...</td>\n",
              "    </tr>\n",
              "    <tr>\n",
              "      <th>non_colocated</th>\n",
              "      <td>NaN</td>\n",
              "      <td>{'_sensors': ['09', '10', '11', '12', '13', '1...</td>\n",
              "    </tr>\n",
              "    <tr>\n",
              "      <th>sensor-02</th>\n",
              "      <td>NaN</td>\n",
              "      <td>{'euclidean': {'max': 141.29048092493704, 'mea...</td>\n",
              "    </tr>\n",
              "    <tr>\n",
              "      <th>sensor-03</th>\n",
              "      <td>NaN</td>\n",
              "      <td>{'euclidean': {'max': 130.06152390311286, 'mea...</td>\n",
              "    </tr>\n",
              "    <tr>\n",
              "      <th>sensor-04</th>\n",
              "      <td>NaN</td>\n",
              "      <td>{'euclidean': {'max': 133.43912469736904, 'mea...</td>\n",
              "    </tr>\n",
              "    <tr>\n",
              "      <th>sensor-05</th>\n",
              "      <td>NaN</td>\n",
              "      <td>{'euclidean': {'max': 136.1396341995967, 'mean...</td>\n",
              "    </tr>\n",
              "  </tbody>\n",
              "</table>\n",
              "</div>"
            ],
            "text/plain": [
              "                                                        metadata                                            results\n",
              "feature                                          ble_wifi_truong                                                NaN\n",
              "sensor                                                        01                                                NaN\n",
              "time_interval                                              10sec                                                NaN\n",
              "value          euclidean, jaccard, mean_exp, mean_hamming, su...                                                NaN\n",
              "co_located                                                   NaN  {'_sensors': ['02', '03', '04', '05', '06', '0...\n",
              "non_colocated                                                NaN  {'_sensors': ['09', '10', '11', '12', '13', '1...\n",
              "sensor-02                                                    NaN  {'euclidean': {'max': 141.29048092493704, 'mea...\n",
              "sensor-03                                                    NaN  {'euclidean': {'max': 130.06152390311286, 'mea...\n",
              "sensor-04                                                    NaN  {'euclidean': {'max': 133.43912469736904, 'mea...\n",
              "sensor-05                                                    NaN  {'euclidean': {'max': 136.1396341995967, 'mean..."
            ]
          },
          "metadata": {
            "tags": []
          },
          "execution_count": 43
        }
      ]
    },
    {
      "cell_type": "code",
      "metadata": {
        "id": "Ly5xNrxVEeO8",
        "colab_type": "code",
        "colab": {
          "base_uri": "https://localhost:8080/",
          "height": 55
        },
        "outputId": "a139beef-95bc-4be5-e9d1-106caa15c5b9"
      },
      "source": [
        "summary_indexes = []                #summary indexes : row headings \n",
        "for col in df_summary.index:\n",
        "    summary_indexes.append(col)\n",
        "    print(col)"
      ],
      "execution_count": 44,
      "outputs": [
        {
          "output_type": "stream",
          "text": [
            "['feature', 'sensor', 'time_interval', 'value', 'co_located', 'non_colocated', 'sensor-02', 'sensor-03', 'sensor-04', 'sensor-05', 'sensor-06', 'sensor-07', 'sensor-08', 'sensor-09', 'sensor-10', 'sensor-11', 'sensor-12', 'sensor-13', 'sensor-14', 'sensor-15', 'sensor-16', 'sensor-17', 'sensor-18', 'sensor-19', 'sensor-20', 'sensor-21', 'sensor-22', 'sensor-23', 'sensor-24']\n"
          ],
          "name": "stdout"
        }
      ]
    },
    {
      "cell_type": "code",
      "metadata": {
        "id": "V3NitVvKF28d",
        "colab_type": "code",
        "colab": {
          "base_uri": "https://localhost:8080/",
          "height": 74
        },
        "outputId": "8ba4e12a-f9f9-4d89-e183-b7c73a73ae7e"
      },
      "source": [
        "print(summary_indexes)              #row headings \n",
        "print(df_summary.columns)           #columns headigns"
      ],
      "execution_count": 45,
      "outputs": [
        {
          "output_type": "stream",
          "text": [
            "['feature', 'sensor', 'time_interval', 'value', 'co_located', 'non_colocated', 'sensor-02', 'sensor-03', 'sensor-04', 'sensor-05', 'sensor-06', 'sensor-07', 'sensor-08', 'sensor-09', 'sensor-10', 'sensor-11', 'sensor-12', 'sensor-13', 'sensor-14', 'sensor-15', 'sensor-16', 'sensor-17', 'sensor-18', 'sensor-19', 'sensor-20', 'sensor-21', 'sensor-22', 'sensor-23', 'sensor-24']\n",
            "Index(['metadata', 'results'], dtype='object')\n"
          ],
          "name": "stdout"
        }
      ]
    },
    {
      "cell_type": "code",
      "metadata": {
        "id": "vWet04SzCRQm",
        "colab_type": "code",
        "colab": {
          "base_uri": "https://localhost:8080/",
          "height": 363
        },
        "outputId": "aba1302d-d3aa-48c6-f11a-2d18e79a5502"
      },
      "source": [
        "df_sensor2.head(10) "
      ],
      "execution_count": 38,
      "outputs": [
        {
          "output_type": "execute_result",
          "data": {
            "text/html": [
              "<div>\n",
              "<style scoped>\n",
              "    .dataframe tbody tr th:only-of-type {\n",
              "        vertical-align: middle;\n",
              "    }\n",
              "\n",
              "    .dataframe tbody tr th {\n",
              "        vertical-align: top;\n",
              "    }\n",
              "\n",
              "    .dataframe thead th {\n",
              "        text-align: right;\n",
              "    }\n",
              "</style>\n",
              "<table border=\"1\" class=\"dataframe\">\n",
              "  <thead>\n",
              "    <tr style=\"text-align: right;\">\n",
              "      <th></th>\n",
              "      <th>metadata</th>\n",
              "      <th>results</th>\n",
              "    </tr>\n",
              "  </thead>\n",
              "  <tbody>\n",
              "    <tr>\n",
              "      <th>created_on</th>\n",
              "      <td>2018-04-05 09:06:07</td>\n",
              "      <td>NaN</td>\n",
              "    </tr>\n",
              "    <tr>\n",
              "      <th>generator_script</th>\n",
              "      <td>ble_wifi_truong</td>\n",
              "      <td>NaN</td>\n",
              "    </tr>\n",
              "    <tr>\n",
              "      <th>generator_version</th>\n",
              "      <td>git+2b4bf52cab25f577679eeaeffe503df1d5fb98c9</td>\n",
              "      <td>NaN</td>\n",
              "    </tr>\n",
              "    <tr>\n",
              "      <th>parameters</th>\n",
              "      <td>{'chunk_len': 10}</td>\n",
              "      <td>NaN</td>\n",
              "    </tr>\n",
              "    <tr>\n",
              "      <th>processing_end</th>\n",
              "      <td>2018-04-05 09:08:07.745228</td>\n",
              "      <td>NaN</td>\n",
              "    </tr>\n",
              "    <tr>\n",
              "      <th>processing_start</th>\n",
              "      <td>2018-04-05 09:06:07.393825</td>\n",
              "      <td>NaN</td>\n",
              "    </tr>\n",
              "    <tr>\n",
              "      <th>source_files</th>\n",
              "      <td>{'Sensor-01/wifi/wifi.txt.blinded': '8799c43f9...</td>\n",
              "      <td>NaN</td>\n",
              "    </tr>\n",
              "    <tr>\n",
              "      <th>system</th>\n",
              "      <td>CPython3.6.3 (default, Oct  3 2017, 21:45:48) ...</td>\n",
              "      <td>NaN</td>\n",
              "    </tr>\n",
              "    <tr>\n",
              "      <th>2017-11-27 16:00:30</th>\n",
              "      <td>NaN</td>\n",
              "      <td>{'euclidean': 47.45524207081869, 'jaccard': 0....</td>\n",
              "    </tr>\n",
              "    <tr>\n",
              "      <th>2017-11-27 16:00:40</th>\n",
              "      <td>NaN</td>\n",
              "      <td>{'euclidean': 33.704599092705436, 'jaccard': 0...</td>\n",
              "    </tr>\n",
              "  </tbody>\n",
              "</table>\n",
              "</div>"
            ],
            "text/plain": [
              "                                                              metadata                                            results\n",
              "created_on                                         2018-04-05 09:06:07                                                NaN\n",
              "generator_script                                       ble_wifi_truong                                                NaN\n",
              "generator_version         git+2b4bf52cab25f577679eeaeffe503df1d5fb98c9                                                NaN\n",
              "parameters                                           {'chunk_len': 10}                                                NaN\n",
              "processing_end                              2018-04-05 09:08:07.745228                                                NaN\n",
              "processing_start                            2018-04-05 09:06:07.393825                                                NaN\n",
              "source_files         {'Sensor-01/wifi/wifi.txt.blinded': '8799c43f9...                                                NaN\n",
              "system               CPython3.6.3 (default, Oct  3 2017, 21:45:48) ...                                                NaN\n",
              "2017-11-27 16:00:30                                                NaN  {'euclidean': 47.45524207081869, 'jaccard': 0....\n",
              "2017-11-27 16:00:40                                                NaN  {'euclidean': 33.704599092705436, 'jaccard': 0..."
            ]
          },
          "metadata": {
            "tags": []
          },
          "execution_count": 38
        }
      ]
    },
    {
      "cell_type": "code",
      "metadata": {
        "id": "7MF4GldHBe8j",
        "colab_type": "code",
        "colab": {}
      },
      "source": [
        "df_summary.info()   #information of the dataframe/summary json file\n",
        "df_sensor2.info()   #infromation of the sensor data file"
      ],
      "execution_count": 0,
      "outputs": []
    },
    {
      "cell_type": "code",
      "metadata": {
        "id": "6o0IuSqUB8HZ",
        "colab_type": "code",
        "colab": {}
      },
      "source": [
        "df_summary.describe()\n",
        "df_sensor2.describe()"
      ],
      "execution_count": 0,
      "outputs": []
    }
  ]
}